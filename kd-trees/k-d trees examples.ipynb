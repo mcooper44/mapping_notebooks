{
 "cells": [
  {
   "cell_type": "code",
   "execution_count": null,
   "id": "9296b96b",
   "metadata": {},
   "outputs": [],
   "source": [
    "import collections\n",
    "import operator"
   ]
  },
  {
   "cell_type": "code",
   "execution_count": null,
   "id": "b33190a7",
   "metadata": {},
   "outputs": [],
   "source": [
    "import matplotlib.pyplot as plt\n",
    "import numpy as np"
   ]
  },
  {
   "cell_type": "code",
   "execution_count": null,
   "id": "60815276",
   "metadata": {},
   "outputs": [],
   "source": [
    "from pyclustering.container.kdtree import kdtree_balanced, kdtree_visualizer\n",
    "from pyclustering.utils import read_sample\n",
    "from pyclustering.samples.definitions import FCPS_SAMPLES"
   ]
  },
  {
   "cell_type": "code",
   "execution_count": null,
   "id": "302e1fa9",
   "metadata": {},
   "outputs": [],
   "source": [
    "from shapely.geometry import Point, Polygon"
   ]
  },
  {
   "cell_type": "code",
   "execution_count": null,
   "id": "57eb4405",
   "metadata": {},
   "outputs": [],
   "source": [
    "import scipy as sp"
   ]
  },
  {
   "cell_type": "markdown",
   "id": "8b8d9b90",
   "metadata": {},
   "source": [
    "## Implementation by hand"
   ]
  },
  {
   "cell_type": "markdown",
   "id": "3fb2ba05",
   "metadata": {},
   "source": [
    "source:\n",
    "    https://johnlekberg.com/blog/2020-04-17-kd-tree.html"
   ]
  },
  {
   "cell_type": "code",
   "execution_count": null,
   "id": "f726f285",
   "metadata": {},
   "outputs": [],
   "source": [
    "def SED(X, Y):\n",
    "    \"\"\"Compute the squared Euclidean distance between X and Y.\"\"\"\n",
    "    return sum((i-j)**2 for i, j in zip(X, Y))"
   ]
  },
  {
   "cell_type": "code",
   "execution_count": null,
   "id": "34e782f5",
   "metadata": {},
   "outputs": [],
   "source": [
    "SED( (3, 4), (4, 9) )"
   ]
  },
  {
   "cell_type": "markdown",
   "id": "7fe053c2",
   "metadata": {},
   "source": [
    "#### brute force"
   ]
  },
  {
   "cell_type": "code",
   "execution_count": null,
   "id": "327b356f",
   "metadata": {},
   "outputs": [],
   "source": [
    "def nearest_neighbor_bf(*, query_points, reference_points):\n",
    "    \"\"\"Use a brute force algorithm to solve the\n",
    "    \"Nearest Neighbor Problem\".\n",
    "    \"\"\"\n",
    "    return {\n",
    "        query_p: min(\n",
    "            reference_points,\n",
    "            key=lambda X: SED(X, query_p),\n",
    "        )\n",
    "        for query_p in query_points\n",
    "    }"
   ]
  },
  {
   "cell_type": "code",
   "execution_count": null,
   "id": "15fc0b81",
   "metadata": {},
   "outputs": [],
   "source": [
    "reference_points = [ (1, 2), (3, 2), (4, 1), (3, 5) ]\n",
    "query_points = [\n",
    "    (3, 4), (5, 1), (7, 3), (8, 9), (10, 1), (3, 3)]"
   ]
  },
  {
   "cell_type": "code",
   "execution_count": null,
   "id": "e6b87ce5",
   "metadata": {},
   "outputs": [],
   "source": [
    "nearest_neighbor_bf(reference_points = reference_points, query_points = query_points,)"
   ]
  },
  {
   "cell_type": "markdown",
   "id": "2cc2244f",
   "metadata": {},
   "source": [
    "### k-d trees algorithm"
   ]
  },
  {
   "cell_type": "code",
   "execution_count": null,
   "id": "36cbc1f2",
   "metadata": {},
   "outputs": [],
   "source": [
    "BT = collections.namedtuple(\"BT\", [\"value\", \"left\", \"right\"])\n",
    "BT.__doc__ = \"\"\"\n",
    "A Binary Tree (BT) with a node value, and left- and\n",
    "right-subtrees.\n",
    "\"\"\""
   ]
  },
  {
   "cell_type": "code",
   "execution_count": null,
   "id": "27acde45",
   "metadata": {},
   "outputs": [],
   "source": [
    "def kdtree(points):\n",
    "    \"\"\"Construct a k-d tree from an iterable of points.\n",
    "    \n",
    "    This algorithm is taken from Wikipedia. For more details,\n",
    "    \n",
    "    > https://en.wikipedia.org/wiki/K-d_tree#Construction\n",
    "    \n",
    "    \"\"\"\n",
    "    k = len(points[0])\n",
    "    \n",
    "    def build(*, points, depth):\n",
    "        \"\"\"Build a k-d tree from a set of points at a given\n",
    "        depth.\n",
    "        \"\"\"\n",
    "        if len(points) == 0:\n",
    "            return None\n",
    "        \n",
    "        points.sort(key=operator.itemgetter(depth % k))\n",
    "        middle = len(points) // 2\n",
    "        \n",
    "        return BT(\n",
    "            value = points[middle],\n",
    "            left = build(\n",
    "                points=points[:middle],\n",
    "                depth=depth+1,\n",
    "            ),\n",
    "            right = build(\n",
    "                points=points[middle+1:],\n",
    "                depth=depth+1,\n",
    "            ),\n",
    "        )\n",
    "    \n",
    "    return build(points=list(points), depth=0)"
   ]
  },
  {
   "cell_type": "code",
   "execution_count": null,
   "id": "870401d7",
   "metadata": {},
   "outputs": [],
   "source": [
    "reference_points = [ (1, 2), (3, 2), (4, 1), (3, 5) ]\n",
    "kdtree(reference_points)"
   ]
  },
  {
   "cell_type": "markdown",
   "id": "d1e68093",
   "metadata": {},
   "source": [
    "BT(value=(3, 5), \n",
    "left=BT(\n",
    "   value=(3, 2), \n",
    "   left=BT(\n",
    "      value=(1, 2), \n",
    "      left=None, \n",
    "      right=None), \n",
    "   right=None), \n",
    "right=BT(\n",
    "   value=(4, 1), \n",
    "   left=None, \n",
    "   right=None))"
   ]
  },
  {
   "cell_type": "code",
   "execution_count": null,
   "id": "b084da75",
   "metadata": {},
   "outputs": [],
   "source": [
    "NNRecord = collections.namedtuple(\"NNRecord\", [\"point\", \"distance\"])\n",
    "NNRecord.__doc__ = \"\"\"\n",
    "Used to keep track of the current best guess during a nearest\n",
    "neighbor search.\n",
    "\"\"\""
   ]
  },
  {
   "cell_type": "code",
   "execution_count": null,
   "id": "bbda6858",
   "metadata": {},
   "outputs": [],
   "source": [
    "def find_nearest_neighbor(*, tree, point):\n",
    "    \"\"\"Find the nearest neighbor in a k-d tree for a given\n",
    "    point.\n",
    "    \"\"\"\n",
    "    k = len(point)\n",
    "    \n",
    "    best = None\n",
    "    def search(*, tree, depth):\n",
    "        \"\"\"Recursively search through the k-d tree to find the\n",
    "        nearest neighbor.\n",
    "        \"\"\"\n",
    "        nonlocal best\n",
    "        \n",
    "        if tree is None:\n",
    "            return\n",
    "        \n",
    "        distance = SED(tree.value, point)\n",
    "        if best is None or distance < best.distance:\n",
    "            best = NNRecord(point=tree.value, distance=distance)\n",
    "        \n",
    "        axis = depth % k\n",
    "        diff = point[axis] - tree.value[axis]\n",
    "        if diff <= 0:\n",
    "            close, away = tree.left, tree.right\n",
    "        else:\n",
    "            close, away = tree.right, tree.left\n",
    "        \n",
    "        search(tree=close, depth=depth+1)\n",
    "        if diff**2 < best.distance:\n",
    "            search(tree=away, depth=depth+1)\n",
    "    \n",
    "    search(tree=tree, depth=0)\n",
    "    return best.point"
   ]
  },
  {
   "cell_type": "code",
   "execution_count": null,
   "id": "f256f38c",
   "metadata": {},
   "outputs": [],
   "source": [
    "reference_points = [ (1, 2), (3, 2), (4, 1), (3, 5) ]\n",
    "tree = kdtree(reference_points)\n",
    "find_nearest_neighbor(tree=tree, point=(10, 1))"
   ]
  },
  {
   "cell_type": "markdown",
   "id": "468509f0",
   "metadata": {},
   "source": [
    "### visualize the points"
   ]
  },
  {
   "cell_type": "code",
   "execution_count": null,
   "id": "418a0cc4",
   "metadata": {},
   "outputs": [],
   "source": [
    "plt.style.use('_mpl-gallery')"
   ]
  },
  {
   "cell_type": "code",
   "execution_count": null,
   "id": "092ae6c0",
   "metadata": {},
   "outputs": [],
   "source": [
    "# plot\n",
    "fig, ax = plt.subplots()\n",
    "x = [x[0] for x in reference_points] + [10]\n",
    "y = [y[1] for y in reference_points] + [1]\n",
    "\n",
    "# size and color:\n",
    "sizes = np.random.uniform(15, 80, len(x))\n",
    "colors = np.random.uniform(15, 80, len(x))\n",
    "\n",
    "ax.scatter(x, y, s=sizes, c=colors, vmin=0, vmax=100)\n",
    "\n",
    "ax.set(xlim=(0, 12), xticks=np.arange(1, 12),\n",
    "       ylim=(0, 12), yticks=np.arange(1, 12))\n",
    "\n",
    "plt.show()"
   ]
  },
  {
   "cell_type": "markdown",
   "id": "6fe23f11",
   "metadata": {},
   "source": [
    "## using pyclustering library to visualize kd tree geometry:\n",
    "https://pyclustering.github.io/docs/0.10.1/html/d3/d38/classpyclustering_1_1container_1_1kdtree_1_1kdtree__visualizer.html"
   ]
  },
  {
   "cell_type": "code",
   "execution_count": null,
   "id": "d306ae87",
   "metadata": {},
   "outputs": [],
   "source": [
    "p2 = [ (1, 2), (3, 2), (4, 1), (3, 5) ]"
   ]
  },
  {
   "cell_type": "code",
   "execution_count": null,
   "id": "f0ec7b49",
   "metadata": {},
   "outputs": [],
   "source": [
    "tree_instance = kdtree_balanced(p2)\n",
    " \n",
    "kdtree_visualizer(tree_instance).visualize()"
   ]
  },
  {
   "cell_type": "markdown",
   "id": "eafe33b6",
   "metadata": {},
   "source": [
    "#### using more points"
   ]
  },
  {
   "cell_type": "markdown",
   "id": "8557fb30",
   "metadata": {},
   "source": [
    "generating random points within a bounding box:\n",
    "https://www.matecdev.com/posts/random-points-in-polygon.html"
   ]
  },
  {
   "cell_type": "code",
   "execution_count": null,
   "id": "ff395f3b",
   "metadata": {},
   "outputs": [],
   "source": [
    "def Random_Points_in_Polygon(polygon, number):\n",
    "    points = []\n",
    "    minx, miny, maxx, maxy = polygon.bounds\n",
    "    while len(points) < number:\n",
    "        pnt = Point(np.random.uniform(minx, maxx), np.random.uniform(miny, maxy))\n",
    "        if polygon.contains(pnt):\n",
    "            points.append(pnt)\n",
    "    return points"
   ]
  },
  {
   "cell_type": "code",
   "execution_count": null,
   "id": "9975f2eb",
   "metadata": {},
   "outputs": [],
   "source": [
    "polygon = Polygon([[42.497830,-80.599547],\n",
    "                   [43.362853, -80.423271],[43.5121265, -80.480605],[43.344230, -80.597123],\n",
    "                   [42.497830,-80.599547]])\n",
    "points = Random_Points_in_Polygon(polygon, 100)\n",
    "\n",
    "# Plot the polygon\n",
    "xp,yp = polygon.exterior.xy\n",
    "plt.plot(xp,yp)\n",
    "\n",
    "# Plot the list of points\n",
    "xs = [point.x for point in points]\n",
    "ys = [point.y for point in points]\n",
    "plt.scatter(xs, ys,color=\"red\")\n",
    "plt.show()"
   ]
  },
  {
   "cell_type": "code",
   "execution_count": null,
   "id": "798b8d44",
   "metadata": {},
   "outputs": [],
   "source": [
    "p3 = [(p.x,p.y) for p in points]"
   ]
  },
  {
   "cell_type": "code",
   "execution_count": 46,
   "id": "8bed22b1",
   "metadata": {},
   "outputs": [
    {
     "data": {
      "text/plain": [
       "[(43.45526362184373, -80.49585778506294),\n",
       " (43.33160240688523, -80.58045570653258),\n",
       " (43.22779172243659, -80.5655706449469),\n",
       " (42.79058321229976, -80.5968121036445),\n",
       " (43.0158273856703, -80.594264265468),\n",
       " (43.35727724903474, -80.47852873424732),\n",
       " (42.86925341933145, -80.55109426467374),\n",
       " (42.73804493549406, -80.58457158549932),\n",
       " (43.27952280469559, -80.54655756744943),\n",
       " (43.01114177781527, -80.53465500276002)]"
      ]
     },
     "execution_count": 46,
     "metadata": {},
     "output_type": "execute_result"
    }
   ],
   "source": [
    "p3[0:10]"
   ]
  },
  {
   "cell_type": "code",
   "execution_count": null,
   "id": "6cd6c0ff",
   "metadata": {},
   "outputs": [],
   "source": [
    "tree_instance = kdtree_balanced(p3)\n",
    " \n",
    "kdtree_visualizer(tree_instance).visualize()"
   ]
  },
  {
   "cell_type": "markdown",
   "id": "7d625590",
   "metadata": {},
   "source": [
    "## scipy spatial.kdtree implementation to create a tree and query it"
   ]
  },
  {
   "cell_type": "code",
   "execution_count": null,
   "id": "624558f6",
   "metadata": {},
   "outputs": [],
   "source": [
    "test_point = p3[50]\n",
    "test_point"
   ]
  },
  {
   "cell_type": "code",
   "execution_count": 48,
   "id": "ad457b86",
   "metadata": {},
   "outputs": [],
   "source": [
    "sp_tree = sp.spatial.KDTree(p3, balanced_tree=True)"
   ]
  },
  {
   "cell_type": "code",
   "execution_count": 49,
   "id": "9a3e5661",
   "metadata": {},
   "outputs": [
    {
     "data": {
      "text/plain": [
       "31"
      ]
     },
     "execution_count": 49,
     "metadata": {},
     "output_type": "execute_result"
    }
   ],
   "source": [
    "sp_tree.size # number of nodes in the tree"
   ]
  },
  {
   "cell_type": "code",
   "execution_count": 52,
   "id": "8ef3c9a8",
   "metadata": {},
   "outputs": [
    {
     "data": {
      "text/plain": [
       "100"
      ]
     },
     "execution_count": 52,
     "metadata": {},
     "output_type": "execute_result"
    }
   ],
   "source": [
    "sp_tree.n # the number of data points"
   ]
  },
  {
   "cell_type": "code",
   "execution_count": 54,
   "id": "f152d1c6",
   "metadata": {},
   "outputs": [
    {
     "data": {
      "text/plain": [
       "array([ 43.20050164, -80.5425378 ])"
      ]
     },
     "execution_count": 54,
     "metadata": {},
     "output_type": "execute_result"
    }
   ],
   "source": [
    "sp_tree.data[50] # coordinate at index 50 of the set of points in the dataset"
   ]
  },
  {
   "cell_type": "code",
   "execution_count": 53,
   "id": "a8268d4f",
   "metadata": {},
   "outputs": [
    {
     "data": {
      "text/plain": [
       "array([list([50, 69, 81])], dtype=object)"
      ]
     },
     "execution_count": 53,
     "metadata": {},
     "output_type": "execute_result"
    }
   ],
   "source": [
    "# the indexes of the points that are 0.025 from a given data point ([ 43.20050164, -80.5425378 ]))\n",
    "sp_tree.query_ball_point([p3[50]], r=.025, return_sorted=True)"
   ]
  },
  {
   "cell_type": "markdown",
   "id": "9a7af1db",
   "metadata": {},
   "source": [
    "you can count the number of neighbours by using the count_neighbors method\n",
    "https://docs.scipy.org/doc/scipy/reference/generated/scipy.spatial.KDTree.count_neighbors.html#scipy.spatial.KDTree.count_neighbors"
   ]
  },
  {
   "cell_type": "code",
   "execution_count": null,
   "id": "65cfb3a9",
   "metadata": {},
   "outputs": [],
   "source": [
    "tree2 = sp.spatial.KDTree([p3[50]])\n",
    "sp_tree.count_neighbors(tree2, r=0.025)"
   ]
  },
  {
   "cell_type": "markdown",
   "id": "22637e78",
   "metadata": {},
   "source": [
    "find the distances and the indexes of the k nearest neighbours of a point\n",
    "https://docs.scipy.org/doc/scipy/reference/generated/scipy.spatial.KDTree.query.html#scipy.spatial.KDTree.query"
   ]
  },
  {
   "cell_type": "code",
   "execution_count": null,
   "id": "f335782b",
   "metadata": {},
   "outputs": [],
   "source": [
    "sp_tree.query([p3[50]], k=3)"
   ]
  },
  {
   "cell_type": "code",
   "execution_count": null,
   "id": "34e129a9",
   "metadata": {},
   "outputs": [],
   "source": [
    "dist_array, data_index = sp_tree.query([p3[50]], k=3)"
   ]
  },
  {
   "cell_type": "code",
   "execution_count": null,
   "id": "b656a7e7",
   "metadata": {},
   "outputs": [],
   "source": [
    "nearest_points = [sp_tree.data[i] for i in data_index]"
   ]
  },
  {
   "cell_type": "code",
   "execution_count": null,
   "id": "07827983",
   "metadata": {},
   "outputs": [],
   "source": [
    "nearest_points # to [ 43.20050164, -80.5425378 ]"
   ]
  },
  {
   "cell_type": "markdown",
   "id": "0944106a",
   "metadata": {},
   "source": [
    "how would you sort the array of points into n sized groupings"
   ]
  }
 ],
 "metadata": {
  "kernelspec": {
   "display_name": "Python 3 (ipykernel)",
   "language": "python",
   "name": "python3"
  },
  "language_info": {
   "codemirror_mode": {
    "name": "ipython",
    "version": 3
   },
   "file_extension": ".py",
   "mimetype": "text/x-python",
   "name": "python",
   "nbconvert_exporter": "python",
   "pygments_lexer": "ipython3",
   "version": "3.12.3"
  }
 },
 "nbformat": 4,
 "nbformat_minor": 5
}
