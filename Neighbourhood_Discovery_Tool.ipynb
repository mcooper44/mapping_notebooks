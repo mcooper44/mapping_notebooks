{
 "cells": [
  {
   "cell_type": "markdown",
   "metadata": {},
   "source": [
    "This is a collection of methods to aggregate some key household level data at the neighbourhood level.  \n",
    "It is still a work in progress."
   ]
  },
  {
   "cell_type": "code",
   "execution_count": null,
   "metadata": {
    "collapsed": true
   },
   "outputs": [],
   "source": [
    "from kw_neighbourhoods import Neighbourhoods # borrowed from December_Ops collection\n",
    "import pandas as pd"
   ]
  },
  {
   "cell_type": "code",
   "execution_count": null,
   "metadata": {
    "collapsed": false
   },
   "outputs": [],
   "source": [
    "tdb = 'City of Waterloo and Kitchener Planning district Geometry.json'\n",
    "# opens a tinydb of geometries and provides a method to see if arbitrary geopoints are within one of the neighbourhoods \n",
    "# accessible by the object\n",
    "kw = Neighbourhoods(tdb) \n",
    "kw.extract_shapes() # takes geometries and organizes them in the .nhood_shapes attribute"
   ]
  },
  {
   "cell_type": "code",
   "execution_count": null,
   "metadata": {
    "collapsed": false
   },
   "outputs": [],
   "source": [
    "%ls"
   ]
  },
  {
   "cell_type": "code",
   "execution_count": null,
   "metadata": {
    "collapsed": false
   },
   "outputs": [],
   "source": [
    "data_types = {'Latitude' : 'float',\n",
    "              'Longitude' : 'float'\n",
    "              }\n"
   ]
  },
  {
   "cell_type": "code",
   "execution_count": null,
   "metadata": {
    "collapsed": false
   },
   "outputs": [],
   "source": [
    "source_file = 'EFHP_full_year_caseload_2018.csv'\n",
    "data = pd.read_csv(source_file, dtype=data_types, low_memory=False)"
   ]
  },
  {
   "cell_type": "code",
   "execution_count": null,
   "metadata": {
    "collapsed": true
   },
   "outputs": [],
   "source": [
    "def find_neighbourhood(row):\n",
    "    '''\n",
    "    uses the Neighbourhoods class to extract the neighbourhood\n",
    "    or 'Unknown' if the lat and long are not in the csv\n",
    "    '''\n",
    "    lat_lng = (row['Latitude'], row['Longitude'])\n",
    "    if all(lat_lng):\n",
    "        return kw.find_in_shapes(*lat_lng)\n",
    "    else:\n",
    "        return 'Unknown'"
   ]
  },
  {
   "cell_type": "code",
   "execution_count": null,
   "metadata": {
    "collapsed": true
   },
   "outputs": [],
   "source": [
    "# Add a column that contains the neighbourhood based off the values in the Latitude and Longitude column\n",
    "data['Neighbourhood'] = data.apply(lambda row: find_neighbourhood(row), axis=1)"
   ]
  },
  {
   "cell_type": "code",
   "execution_count": null,
   "metadata": {
    "collapsed": true
   },
   "outputs": [],
   "source": [
    "# write out a new version of the source csv with a neighbourhood column\n",
    "data.to_csv('{}_with_neighbourhoods.csv'.format(source_file.split('.')[0]))"
   ]
  },
  {
   "cell_type": "code",
   "execution_count": null,
   "metadata": {
    "collapsed": false,
    "scrolled": true
   },
   "outputs": [],
   "source": [
    "# what are the neighbourhoods that Households have visited.\n",
    "# note: False, is passed through by kw_neighbourhoods as the HH is not in KW, or no valid [lat, lng] was available\n",
    "# for them in the dataset.\n",
    "data['Neighbourhood'].unique()"
   ]
  },
  {
   "cell_type": "code",
   "execution_count": null,
   "metadata": {
    "collapsed": false
   },
   "outputs": [],
   "source": [
    "# drop the records that do not contain a valid neighbourhood\n",
    "data = data[data.Neighbourhood != False]"
   ]
  },
  {
   "cell_type": "code",
   "execution_count": null,
   "metadata": {
    "collapsed": false
   },
   "outputs": [],
   "source": [
    "data['Neighbourhood'].unique()"
   ]
  },
  {
   "cell_type": "code",
   "execution_count": null,
   "metadata": {
    "collapsed": false
   },
   "outputs": [],
   "source": [
    "# lets cleanup the source of income fields and aggregate some of the values where it makes sense\n",
    "# first, what values are there?\n",
    "data['Household Primary Income Source'].unique()"
   ]
  },
  {
   "cell_type": "code",
   "execution_count": null,
   "metadata": {
    "collapsed": true
   },
   "outputs": [],
   "source": [
    "# change nan values to 'unknown'\n",
    "data['Household Primary Income Source'].fillna('Unknown or None', inplace=True)"
   ]
  },
  {
   "cell_type": "code",
   "execution_count": null,
   "metadata": {
    "collapsed": true
   },
   "outputs": [],
   "source": [
    "# streamline the SOI field with a mapping of five categories\n",
    "prov = 'Provincial'\n",
    "fed = 'Federal'\n",
    "other = 'Other'\n",
    "no_un = 'Unknown or None'\n",
    "emp = 'Partial or full time employment'\n",
    "\n",
    "soi_map = {\n",
    "    'Ontario Works (OW)': prov, \n",
    "    'No Income': no_un,\n",
    "    'Ontario Disability Support Program (ODSP)': prov,\n",
    "    'Canadian Pension Plan (CPP)': fed, \n",
    "    'Private Disability': other, \n",
    "    'Immigration': fed,\n",
    "    'Employed: Full-Time': emp, \n",
    "    'Employed: Part-Time': emp, \n",
    "    'Child Support': other,\n",
    "    'Old Age Security (OAS)': fed, \n",
    "    'Employment Insurance (EI)': fed,\n",
    "    'Other (Specify)': other,\n",
    "    'Child Tax Benefit': fed,\n",
    "    'Self Employed': emp,\n",
    "    'Student Loans': other,\n",
    "    'Temporary Work': emp,\n",
    "    'WSIB': prov,\n",
    "    'Universal Child Benefit': fed,\n",
    "    \"Children's Aid\": other,\n",
    "    'Private Pension': other,\n",
    "    'Family Support': other,\n",
    "    'Spouse/Family Support': other,\n",
    "    'Scholarships': other,\n",
    "    'provincial_disability': prov,\n",
    "    'Unknown': no_un\n",
    "}\n",
    "\n",
    "# this will change values to what we prefer\n",
    "data['Household Primary Income Source'] = data['Household Primary Income Source'].replace(soi_map)"
   ]
  },
  {
   "cell_type": "code",
   "execution_count": null,
   "metadata": {
    "collapsed": false
   },
   "outputs": [],
   "source": [
    "data['Household Primary Income Source'].unique()"
   ]
  },
  {
   "cell_type": "code",
   "execution_count": null,
   "metadata": {
    "collapsed": false
   },
   "outputs": [],
   "source": [
    "# group the data by households and pull out the first occurance of each unique 'Household ID'\n",
    "# https://stackoverflow.com/questions/20067636/pandas-dataframe-get-first-row-of-each-group\n",
    "households = data.groupby('Household ID').first()"
   ]
  },
  {
   "cell_type": "code",
   "execution_count": null,
   "metadata": {
    "collapsed": false
   },
   "outputs": [],
   "source": [
    "# count the number of occurances of the Household ID - a way to count household visits for some service\n",
    "# (due to the way that L2F deals with household members moving between households, there is likely some double counting involved)\n",
    "# Insert the count as a new column\n",
    "households['Number of Visits'] = data['Household ID'].value_counts()"
   ]
  },
  {
   "cell_type": "code",
   "execution_count": null,
   "metadata": {
    "collapsed": false
   },
   "outputs": [],
   "source": [
    "# reset the index and now we have a dataset with Household data aggregated a bit, with a number of visits and neighbourhood data\n",
    "households.reset_index(inplace=True)\n",
    "households"
   ]
  },
  {
   "cell_type": "code",
   "execution_count": null,
   "metadata": {
    "collapsed": true
   },
   "outputs": [],
   "source": []
  },
  {
   "cell_type": "code",
   "execution_count": null,
   "metadata": {
    "collapsed": false
   },
   "outputs": [],
   "source": [
    "# how many unique HH id's?\n",
    "households['Household ID'].nunique()"
   ]
  },
  {
   "cell_type": "code",
   "execution_count": null,
   "metadata": {
    "collapsed": false
   },
   "outputs": [],
   "source": [
    "# now groupby Neighbourhood so we can start generating some Neighbourhood level stats\n",
    "# especially HH size, visits and income source\n",
    "nhood_data = households.groupby(['Neighbourhood', 'Household Primary Income Source'])"
   ]
  },
  {
   "cell_type": "code",
   "execution_count": null,
   "metadata": {
    "collapsed": true
   },
   "outputs": [],
   "source": [
    "# what functions do we want to apply to each column to get some basic stats?\n",
    "agg_functions = {'Household ID': 'count', 'Household Size': ['mean', 'sum'], 'Number of Visits': ['mean', 'sum']}"
   ]
  },
  {
   "cell_type": "code",
   "execution_count": null,
   "metadata": {
    "collapsed": false
   },
   "outputs": [],
   "source": [
    "stats_nhoods = nhood_data.agg(agg_functions)"
   ]
  },
  {
   "cell_type": "code",
   "execution_count": null,
   "metadata": {
    "collapsed": false
   },
   "outputs": [],
   "source": [
    "# sort the neighbourhoods by neighbourhood name, and then visit count starting with the highest\n",
    "sorted_nhoods = stats_nhoods.reset_index().sort_values(['Neighbourhood',('Household ID', 'count')], ascending=False)"
   ]
  },
  {
   "cell_type": "code",
   "execution_count": null,
   "metadata": {
    "collapsed": true
   },
   "outputs": [],
   "source": [
    "# save to a csv if you want\n",
    "sorted_nhoods.to_csv('2018_Caseload_Neighbourhood_Summary.csv')"
   ]
  },
  {
   "cell_type": "code",
   "execution_count": null,
   "metadata": {
    "collapsed": false
   },
   "outputs": [],
   "source": [
    "sorted_nhoods"
   ]
  },
  {
   "cell_type": "code",
   "execution_count": null,
   "metadata": {
    "collapsed": false
   },
   "outputs": [],
   "source": [
    "# AGGREGATE BY NEIGHBOURHOOD\n",
    "nhood_aggregation = households.groupby('Neighbourhood')\n",
    "nh_s = nhood_aggregation.agg({'Household ID': 'count'})\n",
    "nh_s.reset_index(inplace=True)\n",
    "# MAKE A SERIES that maps Neighbourhood to the sum of the number of HH there\n",
    "nh_hh = pd.Series(list(nh_s['Household ID']), index= list(nh_s['Neighbourhood']))"
   ]
  },
  {
   "cell_type": "code",
   "execution_count": null,
   "metadata": {
    "collapsed": false
   },
   "outputs": [],
   "source": [
    "# for example how mnay HH live in 'ALPINE'\n",
    "nh_hh['ALPINE']"
   ]
  },
  {
   "cell_type": "code",
   "execution_count": null,
   "metadata": {
    "collapsed": false
   },
   "outputs": [],
   "source": [
    "nh_hh"
   ]
  },
  {
   "cell_type": "code",
   "execution_count": null,
   "metadata": {
    "collapsed": true
   },
   "outputs": [],
   "source": [
    "def lookup_total(row, index_series):\n",
    "    '''\n",
    "    takes a row and places the value in the Neighbourhood column\n",
    "    i.e. ALPINE into a variable and then looks for it in the index_series\n",
    "    which is a mapping of Neighbourhood to total number of HH in that neighbourhood \n",
    "    '''\n",
    "    hood = row['Neighbourhood']\n",
    "    return index_series[hood]\n",
    "    \n",
    "def return_city(row):\n",
    "    '''\n",
    "    to avoid errors resulting from bad inputs (city mismatch vs address, mis-spellings etc) that was \n",
    "    more common before the new address field formatting, we can use the fact that \n",
    "    in the neighbourhoods dataset, Kitchener Neighbourhoods are in caps and Waterloo\n",
    "    are sentenance case.  This function will allow the insertion of a standardized City into a new\n",
    "    column.\n",
    "    '''\n",
    "    hood = row['Neighbourhood']\n",
    "    if hood.isupper():\n",
    "        return 'Kitchener'\n",
    "    else:\n",
    "        return 'Waterloo'"
   ]
  },
  {
   "cell_type": "code",
   "execution_count": null,
   "metadata": {
    "collapsed": true
   },
   "outputs": [],
   "source": []
  },
  {
   "cell_type": "code",
   "execution_count": null,
   "metadata": {
    "collapsed": false
   },
   "outputs": [],
   "source": [
    "# insert a new column into the data dataframe with a total HH in each Neighbourhood\n",
    "data['Neighbourhood HH Total'] = data.apply(lambda row: lookup_total(row, nh_hh), axis=1)"
   ]
  },
  {
   "cell_type": "code",
   "execution_count": null,
   "metadata": {
    "collapsed": true
   },
   "outputs": [],
   "source": [
    "# insert the City value implied by the neighbourhood from the supplied geocoordinates\n",
    "data['Implied_City'] = data.apply(lambda row: return_city(row), axis=1)"
   ]
  },
  {
   "cell_type": "code",
   "execution_count": null,
   "metadata": {
    "collapsed": false
   },
   "outputs": [],
   "source": [
    "# create a new sortby data object that references the new column \n",
    "hh_totals = data.groupby('Household ID').first()\n",
    "hh_totals['Number of Visits'] = data['Household ID'].value_counts()\n",
    "hh_totals.reset_index(inplace=True)\n",
    "\n",
    "hh_nhood_data = hh_totals.groupby(['Neighbourhood', 'Implied_City', 'Neighbourhood HH Total', 'Household Primary Income Source'])\n",
    "hh_stats_nhoods = hh_nhood_data.agg(agg_functions)\n",
    "hh_sorted_nhoods = hh_stats_nhoods.reset_index()"
   ]
  },
  {
   "cell_type": "code",
   "execution_count": null,
   "metadata": {
    "collapsed": false
   },
   "outputs": [],
   "source": [
    "# write a csv of the \n",
    "xname = '2018_EFHP_Caseload_HH_NH_summary.csv'\n",
    "hh_sorted_nhoods.sort_values(['Neighbourhood HH Total',('Household ID', 'count')], ascending=False).to_csv(xname)"
   ]
  },
  {
   "cell_type": "code",
   "execution_count": null,
   "metadata": {
    "collapsed": false
   },
   "outputs": [],
   "source": [
    "hh_sorted_nhoods.sort_values(['Neighbourhood HH Total',('Household ID', 'count')], ascending=False)"
   ]
  },
  {
   "cell_type": "code",
   "execution_count": null,
   "metadata": {
    "collapsed": true
   },
   "outputs": [],
   "source": []
  }
 ],
 "metadata": {
  "kernelspec": {
   "display_name": "Python 3.6",
   "language": "python",
   "name": "python3.6"
  },
  "language_info": {
   "codemirror_mode": {
    "name": "ipython",
    "version": 3
   },
   "file_extension": ".py",
   "mimetype": "text/x-python",
   "name": "python",
   "nbconvert_exporter": "python",
   "pygments_lexer": "ipython3",
   "version": "3.6.0"
  }
 },
 "nbformat": 4,
 "nbformat_minor": 0
}
