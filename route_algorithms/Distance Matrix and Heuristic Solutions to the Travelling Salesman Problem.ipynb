{
 "cells": [
  {
   "cell_type": "code",
   "execution_count": 1,
   "id": "15ee4bf9",
   "metadata": {},
   "outputs": [],
   "source": [
    "from scipy.spatial import distance_matrix\n",
    "import pandas as pd\n",
    "import numpy as np\n",
    "import matplotlib.pyplot as plt\n",
    "from shapely.geometry import Point, Polygon"
   ]
  },
  {
   "cell_type": "markdown",
   "id": "68936f4c",
   "metadata": {},
   "source": [
    "annotation of algorithm and code from Applied Mathematics with Open-Source Software by Knight and Palmer p115-126"
   ]
  },
  {
   "cell_type": "markdown",
   "id": "53b2693e",
   "metadata": {},
   "source": [
    "### Example of building a distance matrix"
   ]
  },
  {
   "cell_type": "code",
   "execution_count": 52,
   "id": "1700221c",
   "metadata": {},
   "outputs": [],
   "source": [
    "coords = [[5,7], [6,9], [4,4]]\n",
    "towns = ['Arkham', 'Dunwich', 'Insmouth']\n",
    "df = pd.DataFrame(coords, columns=['x_coord', 'y_coord'], index=towns)"
   ]
  },
  {
   "cell_type": "code",
   "execution_count": 53,
   "id": "d238534e",
   "metadata": {},
   "outputs": [
    {
     "data": {
      "text/html": [
       "<div>\n",
       "<style scoped>\n",
       "    .dataframe tbody tr th:only-of-type {\n",
       "        vertical-align: middle;\n",
       "    }\n",
       "\n",
       "    .dataframe tbody tr th {\n",
       "        vertical-align: top;\n",
       "    }\n",
       "\n",
       "    .dataframe thead th {\n",
       "        text-align: right;\n",
       "    }\n",
       "</style>\n",
       "<table border=\"1\" class=\"dataframe\">\n",
       "  <thead>\n",
       "    <tr style=\"text-align: right;\">\n",
       "      <th></th>\n",
       "      <th>x_coord</th>\n",
       "      <th>y_coord</th>\n",
       "    </tr>\n",
       "  </thead>\n",
       "  <tbody>\n",
       "    <tr>\n",
       "      <th>Arkham</th>\n",
       "      <td>5</td>\n",
       "      <td>7</td>\n",
       "    </tr>\n",
       "    <tr>\n",
       "      <th>Dunwich</th>\n",
       "      <td>6</td>\n",
       "      <td>9</td>\n",
       "    </tr>\n",
       "    <tr>\n",
       "      <th>Insmouth</th>\n",
       "      <td>4</td>\n",
       "      <td>4</td>\n",
       "    </tr>\n",
       "  </tbody>\n",
       "</table>\n",
       "</div>"
      ],
      "text/plain": [
       "          x_coord  y_coord\n",
       "Arkham          5        7\n",
       "Dunwich         6        9\n",
       "Insmouth        4        4"
      ]
     },
     "execution_count": 53,
     "metadata": {},
     "output_type": "execute_result"
    }
   ],
   "source": [
    "df"
   ]
  },
  {
   "cell_type": "code",
   "execution_count": 54,
   "id": "e7bc3542",
   "metadata": {},
   "outputs": [
    {
     "data": {
      "text/html": [
       "<div>\n",
       "<style scoped>\n",
       "    .dataframe tbody tr th:only-of-type {\n",
       "        vertical-align: middle;\n",
       "    }\n",
       "\n",
       "    .dataframe tbody tr th {\n",
       "        vertical-align: top;\n",
       "    }\n",
       "\n",
       "    .dataframe thead th {\n",
       "        text-align: right;\n",
       "    }\n",
       "</style>\n",
       "<table border=\"1\" class=\"dataframe\">\n",
       "  <thead>\n",
       "    <tr style=\"text-align: right;\">\n",
       "      <th></th>\n",
       "      <th>Arkham</th>\n",
       "      <th>Dunwich</th>\n",
       "      <th>Insmouth</th>\n",
       "    </tr>\n",
       "  </thead>\n",
       "  <tbody>\n",
       "    <tr>\n",
       "      <th>Arkham</th>\n",
       "      <td>0.000000</td>\n",
       "      <td>2.236068</td>\n",
       "      <td>3.162278</td>\n",
       "    </tr>\n",
       "    <tr>\n",
       "      <th>Dunwich</th>\n",
       "      <td>2.236068</td>\n",
       "      <td>0.000000</td>\n",
       "      <td>5.385165</td>\n",
       "    </tr>\n",
       "    <tr>\n",
       "      <th>Insmouth</th>\n",
       "      <td>3.162278</td>\n",
       "      <td>5.385165</td>\n",
       "      <td>0.000000</td>\n",
       "    </tr>\n",
       "  </tbody>\n",
       "</table>\n",
       "</div>"
      ],
      "text/plain": [
       "            Arkham   Dunwich  Insmouth\n",
       "Arkham    0.000000  2.236068  3.162278\n",
       "Dunwich   2.236068  0.000000  5.385165\n",
       "Insmouth  3.162278  5.385165  0.000000"
      ]
     },
     "execution_count": 54,
     "metadata": {},
     "output_type": "execute_result"
    }
   ],
   "source": [
    "pd.DataFrame(distance_matrix(df.values, df.values), index=df.index, columns=df.index)"
   ]
  },
  {
   "cell_type": "markdown",
   "id": "4759ff5a",
   "metadata": {},
   "source": [
    "### creating random points bounded by a polygon"
   ]
  },
  {
   "cell_type": "code",
   "execution_count": 2,
   "id": "966d03a3",
   "metadata": {},
   "outputs": [],
   "source": [
    "def Random_Points_in_Polygon(polygon, number):\n",
    "    points = []\n",
    "    minx, miny, maxx, maxy = polygon.bounds\n",
    "    while len(points) < number:\n",
    "        pnt = Point(np.random.uniform(minx, maxx), np.random.uniform(miny, maxy))\n",
    "        if polygon.contains(pnt):\n",
    "            points.append(pnt)\n",
    "    return points"
   ]
  },
  {
   "cell_type": "code",
   "execution_count": null,
   "id": "ae30a112",
   "metadata": {},
   "outputs": [],
   "source": [
    "polygon = Polygon([[42.497830,-80.599547],\n",
    "                   [43.362853, -80.423271],[43.5121265, -80.480605],[43.344230, -80.597123],\n",
    "                   [42.497830,-80.599547]])\n",
    "points = Random_Points_in_Polygon(polygon, 25)"
   ]
  },
  {
   "cell_type": "code",
   "execution_count": 5,
   "id": "cd6b2bfe",
   "metadata": {},
   "outputs": [
    {
     "data": {
      "image/png": "[encoded data removed]",
      "text/plain": [
       "<Figure size 640x480 with 1 Axes>"
      ]
     },
     "metadata": {},
     "output_type": "display_data"
    }
   ],
   "source": [
    "fig, ax = plt.subplots()\n",
    "\n",
    "# Plot the polygon\n",
    "xp,yp = polygon.exterior.xy\n",
    "plt.plot(xp,yp)\n",
    "\n",
    "# Plot the list of points\n",
    "xs = [point.x for point in points]\n",
    "ys = [point.y for point in points]\n",
    "n = list(range(1,26))\n",
    "\n",
    "plt.scatter(xs, ys,color=\"red\")\n",
    "for i, txt in enumerate(n):\n",
    "    ax.annotate(txt, (xs[i], ys[i]))\n",
    "\n",
    "\n",
    "plt.show()"
   ]
  },
  {
   "cell_type": "markdown",
   "id": "4907d6bd",
   "metadata": {},
   "source": [
    "### create a distance matrix for the random points"
   ]
  },
  {
   "cell_type": "code",
   "execution_count": 7,
   "id": "1123e0ea",
   "metadata": {},
   "outputs": [],
   "source": [
    "point_list = [(p.x,p.y) for p in points]\n",
    "point_df = pd.DataFrame(point_list, columns=['x_coord', 'y_coord'], index=point_list)\n",
    "dm = pd.DataFrame(distance_matrix(point_df.values, point_df.values), index=point_df.index, columns=point_df.index)"
   ]
  },
  {
   "cell_type": "code",
   "execution_count": null,
   "id": "c7ada688",
   "metadata": {},
   "outputs": [],
   "source": [
    "dm"
   ]
  },
  {
   "cell_type": "code",
   "execution_count": 9,
   "id": "4ee47f7e",
   "metadata": {},
   "outputs": [],
   "source": [
    "d_matrix = distance_matrix(point_df.values, point_df.values)  # create a simplier version"
   ]
  },
  {
   "cell_type": "code",
   "execution_count": 11,
   "id": "918f0218",
   "metadata": {},
   "outputs": [
    {
     "data": {
      "text/plain": [
       "array([[0.        , 0.10507897, 0.21355853, 0.39468388, 0.09642747,\n",
       "        0.26263057, 0.22307209, 0.0599807 , 0.10547127, 0.1092806 ,\n",
       "        0.29167116, 0.06047996, 0.16982712, 0.08397159, 0.15667987,\n",
       "        0.13403367, 0.34175801, 0.39000237, 0.31153258, 0.19402939,\n",
       "        0.11065773, 0.24462516, 0.12186189, 0.08025947, 0.19399567],\n",
       "       [0.10507897, 0.        , 0.11118745, 0.29264984, 0.19066583,\n",
       "        0.15755997, 0.11803916, 0.04719562, 0.09135999, 0.03852752,\n",
       "        0.1865925 , 0.14968897, 0.07110743, 0.12730998, 0.05187044,\n",
       "        0.0315105 , 0.24348412, 0.28707899, 0.41657307, 0.11978711,\n",
       "        0.00988454, 0.1661789 , 0.21969747, 0.18295426, 0.10350289],\n",
       "       [0.21355853, 0.11118745, 0.        , 0.181578  , 0.2879651 ,\n",
       "        0.06385894, 0.03228278, 0.15823914, 0.15265235, 0.10849226,\n",
       "        0.08827656, 0.24776697, 0.04508052, 0.20758527, 0.06108356,\n",
       "        0.08013183, 0.133639  , 0.17647077, 0.52270182, 0.08447779,\n",
       "        0.10377173, 0.09758094, 0.31815099, 0.2869536 , 0.0469788 ],\n",
       "       [0.39468388, 0.29264984, 0.181578  , 0.        , 0.46297214,\n",
       "        0.14931728, 0.18020708, 0.33977874, 0.32049439, 0.2871448 ,\n",
       "        0.1250061 , 0.42421325, 0.22488331, 0.37728547, 0.24154786,\n",
       "        0.26170978, 0.06352005, 0.01393446, 0.70127386, 0.22407838,\n",
       "        0.28534945, 0.18742365, 0.49320115, 0.46566128, 0.20587161],\n",
       "       [0.09642747, 0.19066583, 0.2879651 , 0.46297214, 0.        ,\n",
       "        0.34438114, 0.30410382, 0.15209852, 0.14386475, 0.1796919 ,\n",
       "        0.37267634, 0.04102659, 0.2429083 , 0.08859284, 0.23862523,\n",
       "        0.21429027, 0.40467927, 0.46040811, 0.24030313, 0.24388778,\n",
       "        0.19331309, 0.29137744, 0.0302705 , 0.03353623, 0.25710221],\n",
       "       [0.26263057, 0.15755997, 0.06385894, 0.14931728, 0.34438114,\n",
       "        0.        , 0.04027768, 0.20371182, 0.21444106, 0.16547481,\n",
       "        0.02912079, 0.30354923, 0.10472161, 0.26785   , 0.10645319,\n",
       "        0.13037919, 0.12230824, 0.14021738, 0.57413015, 0.14606575,\n",
       "        0.15266918, 0.14614422, 0.3742329 , 0.33986504, 0.10996953],\n",
       "       [0.22307209, 0.11803916, 0.03228278, 0.18020708, 0.30410382,\n",
       "        0.04027768, 0.        , 0.16467068, 0.17539481, 0.12531412,\n",
       "        0.06886054, 0.26327775, 0.06579856, 0.22805619, 0.06649353,\n",
       "        0.09019428, 0.1416961 , 0.17284555, 0.53442327, 0.11627506,\n",
       "        0.11273582, 0.12845989, 0.3339625 , 0.2998209 , 0.07837667],\n",
       "       [0.0599807 , 0.04719562, 0.15823914, 0.33977874, 0.15209852,\n",
       "        0.20371182, 0.16467068, 0.        , 0.09317633, 0.06527571,\n",
       "        0.2328214 , 0.11222564, 0.11680098, 0.10647985, 0.09894471,\n",
       "        0.0781744 , 0.28982544, 0.33427105, 0.37099105, 0.15535597,\n",
       "        0.05463213, 0.20466407, 0.17962604, 0.13986129, 0.14620604],\n",
       "       [0.10547127, 0.09135999, 0.15265235, 0.32049439, 0.14386475,\n",
       "        0.21444106, 0.17539481, 0.09317633, 0.        , 0.05722613,\n",
       "        0.24069252, 0.10804344, 0.10975574, 0.05679583, 0.11841293,\n",
       "        0.09615867, 0.26117891, 0.31873589, 0.38408215, 0.10012948,\n",
       "        0.08647621, 0.14866184, 0.17377638, 0.152827  , 0.115482  ],\n",
       "       [0.1092806 , 0.03852752, 0.10849226, 0.2871448 , 0.1796919 ,\n",
       "        0.16547481, 0.12531412, 0.06527571, 0.05722613, 0.        ,\n",
       "        0.19334375, 0.13931131, 0.06342777, 0.10364187, 0.06297073,\n",
       "        0.03945231, 0.23273382, 0.28331848, 0.4146744 , 0.0900888 ,\n",
       "        0.03111622, 0.13966439, 0.20980886, 0.17884638, 0.08473924],\n",
       "       [0.29167116, 0.1865925 , 0.08827656, 0.1250061 , 0.37267634,\n",
       "        0.02912079, 0.06886054, 0.2328214 , 0.24069252, 0.19334375,\n",
       "        0.        , 0.3319318 , 0.13147973, 0.29493565, 0.13530575,\n",
       "        0.15904339, 0.1081482 , 0.11475804, 0.60313896, 0.16589491,\n",
       "        0.18155003, 0.158007  , 0.40261348, 0.36867922, 0.13195668],\n",
       "       [0.06047996, 0.14968897, 0.24776697, 0.42421325, 0.04102659,\n",
       "        0.30354923, 0.26327775, 0.11222564, 0.10804344, 0.13931131,\n",
       "        0.3319318 , 0.        , 0.20268647, 0.05776198, 0.1976582 ,\n",
       "        0.17335368, 0.36685318, 0.42125195, 0.27736891, 0.20791033,\n",
       "        0.15228743, 0.25669648, 0.0706858 , 0.0453948 , 0.21849116],\n",
       "       [0.16982712, 0.07110743, 0.04508052, 0.22488331, 0.2429083 ,\n",
       "        0.10472161, 0.06579856, 0.11680098, 0.10975574, 0.06342777,\n",
       "        0.13147973, 0.20268647, 0.        , 0.16345634, 0.0320332 ,\n",
       "        0.03981745, 0.17307035, 0.22050439, 0.47788189, 0.0675297 ,\n",
       "        0.06240421, 0.10311836, 0.27308356, 0.24207471, 0.03675971],\n",
       "       [0.08397159, 0.12730998, 0.20758527, 0.37728547, 0.08859284,\n",
       "        0.26785   , 0.22805619, 0.10647985, 0.05679583, 0.10364187,\n",
       "        0.29493565, 0.05776198, 0.16345634, 0.        , 0.16647812,\n",
       "        0.14242133, 0.31777479, 0.37551114, 0.32872743, 0.15587179,\n",
       "        0.12617348, 0.20282658, 0.11794751, 0.10290699, 0.17214459],\n",
       "       [0.15667987, 0.05187044, 0.06108356, 0.24154786, 0.23862523,\n",
       "        0.10645319, 0.06649353, 0.09894471, 0.11841293, 0.06297073,\n",
       "        0.13530575, 0.1976582 , 0.0320332 , 0.16647812, 0.        ,\n",
       "        0.02445128, 0.19467551, 0.23560735, 0.46793883, 0.09842186,\n",
       "        0.04624613, 0.13500429, 0.26827022, 0.23341214, 0.06865322],\n",
       "       [0.13403367, 0.0315105 , 0.08013183, 0.26170978, 0.21429027,\n",
       "        0.13037919, 0.09019428, 0.0781744 , 0.09615867, 0.03945231,\n",
       "        0.15904339, 0.17335368, 0.03981745, 0.14242133, 0.02445128,\n",
       "        0.        , 0.21198913, 0.25645247, 0.44469887, 0.09547911,\n",
       "        0.02364319, 0.13861636, 0.24400172, 0.20969725, 0.07387612],\n",
       "       [0.34175801, 0.24348412, 0.133639  , 0.06352005, 0.40467927,\n",
       "        0.12230824, 0.1416961 , 0.28982544, 0.26117891, 0.23273382,\n",
       "        0.1081482 , 0.36685318, 0.17307035, 0.31777479, 0.19467551,\n",
       "        0.21198913, 0.        , 0.06742939, 0.64421632, 0.16283156,\n",
       "        0.23526494, 0.12406153, 0.43477214, 0.4094726 , 0.1488703 ],\n",
       "       [0.39000237, 0.28707899, 0.17647077, 0.01393446, 0.46040811,\n",
       "        0.14021738, 0.17284555, 0.33427105, 0.31873589, 0.28331848,\n",
       "        0.11475804, 0.42125195, 0.22050439, 0.37551114, 0.23560735,\n",
       "        0.25645247, 0.06742939, 0.        , 0.6979001 , 0.22385299,\n",
       "        0.28008472, 0.18963977, 0.49067017, 0.4621142 , 0.20352212],\n",
       "       [0.31153258, 0.41657307, 0.52270182, 0.70127386, 0.24030313,\n",
       "        0.57413015, 0.53442327, 0.37099105, 0.38408215, 0.4146744 ,\n",
       "        0.60313896, 0.27736891, 0.47788189, 0.32872743, 0.46793883,\n",
       "        0.44469887, 0.64421632, 0.6979001 , 0.        , 0.48416904,\n",
       "        0.4217232 , 0.53153829, 0.21081514, 0.23582926, 0.49578577],\n",
       "       [0.19402939, 0.11978711, 0.08447779, 0.22407838, 0.24388778,\n",
       "        0.14606575, 0.11627506, 0.15535597, 0.10012948, 0.0900888 ,\n",
       "        0.16589491, 0.20791033, 0.0675297 , 0.15587179, 0.09842186,\n",
       "        0.09547911, 0.16283156, 0.22385299, 0.48416904, 0.        ,\n",
       "        0.10991761, 0.05059622, 0.27365178, 0.25219874, 0.0380284 ],\n",
       "       [0.11065773, 0.00988454, 0.10377173, 0.28534945, 0.19331309,\n",
       "        0.15266918, 0.11273582, 0.05463213, 0.08647621, 0.03111622,\n",
       "        0.18155003, 0.15228743, 0.06240421, 0.12617348, 0.04624613,\n",
       "        0.02364319, 0.23526494, 0.28008472, 0.4217232 , 0.10991761,\n",
       "        0.        , 0.15633727, 0.2227079 , 0.18721313, 0.09397664],\n",
       "       [0.24462516, 0.1661789 , 0.09758094, 0.18742365, 0.29137744,\n",
       "        0.14614422, 0.12845989, 0.20466407, 0.14866184, 0.13966439,\n",
       "        0.158007  , 0.25669648, 0.10311836, 0.20282658, 0.13500429,\n",
       "        0.13861636, 0.12406153, 0.18963977, 0.53153829, 0.05059622,\n",
       "        0.15633727, 0.        , 0.32072735, 0.30142544, 0.06636788],\n",
       "       [0.12186189, 0.21969747, 0.31815099, 0.49320115, 0.0302705 ,\n",
       "        0.3742329 , 0.3339625 , 0.17962604, 0.17377638, 0.20980886,\n",
       "        0.40261348, 0.0706858 , 0.27308356, 0.11794751, 0.26827022,\n",
       "        0.24400172, 0.43477214, 0.49067017, 0.21081514, 0.27365178,\n",
       "        0.2227079 , 0.32072735, 0.        , 0.04539777, 0.2873366 ],\n",
       "       [0.08025947, 0.18295426, 0.2869536 , 0.46566128, 0.03353623,\n",
       "        0.33986504, 0.2998209 , 0.13986129, 0.152827  , 0.17884638,\n",
       "        0.36867922, 0.0453948 , 0.24207471, 0.10290699, 0.23341214,\n",
       "        0.20969725, 0.4094726 , 0.4621142 , 0.23582926, 0.25219874,\n",
       "        0.18721313, 0.30142544, 0.04539777, 0.        , 0.26066642],\n",
       "       [0.19399567, 0.10350289, 0.0469788 , 0.20587161, 0.25710221,\n",
       "        0.10996953, 0.07837667, 0.14620604, 0.115482  , 0.08473924,\n",
       "        0.13195668, 0.21849116, 0.03675971, 0.17214459, 0.06865322,\n",
       "        0.07387612, 0.1488703 , 0.20352212, 0.49578577, 0.0380284 ,\n",
       "        0.09397664, 0.06636788, 0.2873366 , 0.26066642, 0.        ]])"
      ]
     },
     "execution_count": 11,
     "metadata": {},
     "output_type": "execute_result"
    }
   ],
   "source": [
    "d_matrix"
   ]
  },
  {
   "cell_type": "markdown",
   "id": "5d811386",
   "metadata": {},
   "source": [
    "### create a random path through the points"
   ]
  },
  {
   "cell_type": "code",
   "execution_count": 12,
   "id": "a84c78f2",
   "metadata": {},
   "outputs": [],
   "source": [
    "def get_initial_candidate(number_of_stops, seed):\n",
    "    \"\"\"Return a random initial tour.\n",
    "    \n",
    "    Args:\n",
    "    number_of_stops: the number of stops\n",
    "    seed: An integer seed\n",
    "    \n",
    "    \n",
    "    returns:\n",
    "    A tour starting and ending at stop with index 0\n",
    "    \"\"\"\n",
    "    internal_stops = list(range(1, number_of_stops))\n",
    "    np.random.seed(seed)\n",
    "    np.random.shuffle(internal_stops)\n",
    "    return [0] + internal_stops + [0]"
   ]
  },
  {
   "cell_type": "code",
   "execution_count": 13,
   "id": "82678bbb",
   "metadata": {},
   "outputs": [
    {
     "name": "stdout",
     "output_type": "stream",
     "text": [
      "[0, 5, 10, 6, 4, 8, 19, 17, 7, 3, 14, 16, 11, 20, 12, 15, 13, 1, 24, 18, 9, 21, 2, 23, 22, 0]\n"
     ]
    }
   ],
   "source": [
    "number_of_stops = 25\n",
    "seed = 9\n",
    "initial_candidate = get_initial_candidate(number_of_stops=number_of_stops, seed=seed)\n",
    "print(initial_candidate)"
   ]
  },
  {
   "cell_type": "markdown",
   "id": "dc94e5ef",
   "metadata": {},
   "source": [
    "#### calculate the cost of the initial tour"
   ]
  },
  {
   "cell_type": "code",
   "execution_count": 14,
   "id": "7b07d795",
   "metadata": {},
   "outputs": [],
   "source": [
    "tour = initial_candidate\n",
    "coordinate_points = zip(tour[:-1], tour[1:])\n",
    "x = [d_matrix[current_stop, next_stop] for current_stop, next_stop in coordinate_points]"
   ]
  },
  {
   "cell_type": "code",
   "execution_count": 15,
   "id": "018992cd",
   "metadata": {},
   "outputs": [
    {
     "data": {
      "text/plain": [
       "[0.262630574138299,\n",
       " 0.02912078535009215,\n",
       " 0.06886053632046311,\n",
       " 0.30410382136587555,\n",
       " 0.14386475368833565,\n",
       " 0.10012948198577884,\n",
       " 0.2238529923728973,\n",
       " 0.33427105345821445,\n",
       " 0.33977874002376307,\n",
       " 0.24154785903675424,\n",
       " 0.19467550811028694,\n",
       " 0.3668531847695157,\n",
       " 0.15228743388345703,\n",
       " 0.06240421471615369,\n",
       " 0.03981745255535951,\n",
       " 0.14242132606100022,\n",
       " 0.1273099798847588,\n",
       " 0.10350288929707357,\n",
       " 0.4957857681206137,\n",
       " 0.4146744019765914,\n",
       " 0.13966438619370408,\n",
       " 0.09758093956965382,\n",
       " 0.2869536026269156,\n",
       " 0.04539777097864412,\n",
       " 0.12186189085372001]"
      ]
     },
     "execution_count": 15,
     "metadata": {},
     "output_type": "execute_result"
    }
   ],
   "source": [
    "x # the distance to each step in the path"
   ]
  },
  {
   "cell_type": "code",
   "execution_count": 16,
   "id": "5f507d01",
   "metadata": {},
   "outputs": [
    {
     "name": "stdout",
     "output_type": "stream",
     "text": [
      "[(0, 5), (5, 10), (10, 6), (6, 4), (4, 8), (8, 19), (19, 17), (17, 7), (7, 3), (3, 14), (14, 16), (16, 11), (11, 20), (20, 12), (12, 15), (15, 13), (13, 1), (1, 24), (24, 18), (18, 9), (9, 21), (21, 2), (2, 23), (23, 22), (22, 0)]\n"
     ]
    }
   ],
   "source": [
    "coordinate_points = zip(tour[:-1], tour[1:])\n",
    "print(list(coordinate_points))  # each step in the path"
   ]
  },
  {
   "cell_type": "code",
   "execution_count": 21,
   "id": "29fb9ca4",
   "metadata": {},
   "outputs": [],
   "source": [
    "def get_cost(tour, distance_matrix):\n",
    "    '''Return the cost of a tour.\n",
    "    \n",
    "    Args:\n",
    "        tour: A given tuple of successive stops.\n",
    "        distance_matrix: The distance matrix of the problem.\n",
    "        \n",
    "    Returns:\n",
    "        The cost\n",
    "    '''\n",
    "    return sum(distance_matrix[current_stop, next_stop] for current_stop, next_stop in zip(tour[:-1], tour[1:]))"
   ]
  },
  {
   "cell_type": "code",
   "execution_count": 22,
   "id": "4e2ef913",
   "metadata": {},
   "outputs": [
    {
     "name": "stdout",
     "output_type": "stream",
     "text": [
      "4.839351347337922\n"
     ]
    }
   ],
   "source": [
    "cost = get_cost(tour=initial_candidate, distance_matrix=d_matrix)\n",
    "print(cost)"
   ]
  },
  {
   "cell_type": "code",
   "execution_count": 23,
   "id": "052f01f9",
   "metadata": {},
   "outputs": [],
   "source": [
    "def swap_stops(tour):\n",
    "    '''Return a new tour by swapping two stops.\n",
    "    \n",
    "    Args:\n",
    "        tour: A given tuple of successive stops.\n",
    "        \n",
    "    Returns:\n",
    "        A tour\n",
    "    '''\n",
    "    number_of_stops = len(tour) - 1\n",
    "    i, j = np.random.choice(range(1, number_of_stops), 2)\n",
    "    #print(f'swapping {i} with {j}')\n",
    "    new_tour = list(tour)\n",
    "    new_tour[i], new_tour[j] = tour[j], tour[i]\n",
    "    return new_tour"
   ]
  },
  {
   "cell_type": "code",
   "execution_count": 24,
   "id": "bb4ffd9a",
   "metadata": {},
   "outputs": [
    {
     "name": "stdout",
     "output_type": "stream",
     "text": [
      "[0, 5, 10, 6, 4, 8, 19, 22, 7, 3, 14, 16, 11, 20, 12, 15, 13, 1, 24, 18, 9, 21, 2, 23, 17, 0]\n"
     ]
    }
   ],
   "source": [
    "print(swap_stops(initial_candidate))"
   ]
  },
  {
   "cell_type": "markdown",
   "id": "ced877c1",
   "metadata": {},
   "source": [
    "### grind through permutations of the route to find a better solution"
   ]
  },
  {
   "cell_type": "code",
   "execution_count": 25,
   "id": "bd4d70f5",
   "metadata": {},
   "outputs": [],
   "source": [
    "def run_neighbourhood_search(distance_matrix, iterations, seed, neighbourhood_operator=swap_stops):\n",
    "    number_of_stops = len(distance_matrix)\n",
    "    candidate = get_initial_candidate(number_of_stops=number_of_stops, seed=seed,)\n",
    "    best_cost = get_cost(tour=candidate, distance_matrix=distance_matrix,)\n",
    "    for _ in range(iterations):\n",
    "        new_candidate = neighbourhood_operator(candidate) # swap_stops\n",
    "        cost = get_cost(tour=new_candidate, distance_matrix=distance_matrix,) # calc new cost\n",
    "        if cost <= best_cost: # is it better?\n",
    "            best_cost = cost\n",
    "            candidate = new_candidate\n",
    "    return candidate, best_cost"
   ]
  },
  {
   "cell_type": "code",
   "execution_count": 27,
   "id": "cbeb8e6b",
   "metadata": {},
   "outputs": [],
   "source": [
    "number_of_iterations = 9000\n",
    "solution_with_swap_stops = run_neighbourhood_search(distance_matrix = d_matrix, \n",
    "                                                    iterations = number_of_iterations,\n",
    "                                                    seed = seed,\n",
    "                                                    neighbourhood_operator=swap_stops,\n",
    "                                                   )\n"
   ]
  },
  {
   "cell_type": "code",
   "execution_count": 28,
   "id": "390c2a77",
   "metadata": {},
   "outputs": [
    {
     "data": {
      "text/plain": [
       "([0,\n",
       "  23,\n",
       "  18,\n",
       "  22,\n",
       "  4,\n",
       "  11,\n",
       "  13,\n",
       "  8,\n",
       "  2,\n",
       "  16,\n",
       "  3,\n",
       "  17,\n",
       "  10,\n",
       "  5,\n",
       "  6,\n",
       "  14,\n",
       "  12,\n",
       "  24,\n",
       "  21,\n",
       "  19,\n",
       "  15,\n",
       "  20,\n",
       "  1,\n",
       "  9,\n",
       "  7,\n",
       "  0],\n",
       " 1.8057024470719056)"
      ]
     },
     "execution_count": 28,
     "metadata": {},
     "output_type": "execute_result"
    }
   ],
   "source": [
    "solution_with_swap_stops"
   ]
  },
  {
   "cell_type": "code",
   "execution_count": 30,
   "id": "aafaddf8",
   "metadata": {},
   "outputs": [
    {
     "name": "stdout",
     "output_type": "stream",
     "text": [
      "[(0, 23), (23, 18), (18, 22), (22, 4), (4, 11), (11, 13), (13, 8), (8, 2), (2, 16), (16, 3), (3, 17), (17, 10), (10, 5), (5, 6), (6, 14), (14, 12), (12, 24), (24, 21), (21, 19), (19, 15), (15, 20), (20, 1), (1, 9), (9, 7), (7, 0)]\n"
     ]
    }
   ],
   "source": [
    "solution_points = zip(solution_with_swap_stops[0][:-1], solution_with_swap_stops[0][1:])\n",
    "print(list(solution_points))"
   ]
  },
  {
   "cell_type": "code",
   "execution_count": 46,
   "id": "34ce18a1",
   "metadata": {},
   "outputs": [],
   "source": [
    "def return_route(solution=solution_with_swap_stops, p_list=point_list):\n",
    "    solution_p = zip(solution[0][:-1], solution[0][1:])\n",
    "    return [p_list[i] for i, _ in solution_p]"
   ]
  },
  {
   "cell_type": "code",
   "execution_count": 32,
   "id": "355c20cf",
   "metadata": {},
   "outputs": [
    {
     "name": "stdout",
     "output_type": "stream",
     "text": [
      "[(43.03717306519377, -80.50369685731886), (42.969107415416104, -80.5462250885295), (42.736570306681735, -80.58549251979808), (42.94738460550742, -80.58608831894928), (42.976782195938625, -80.57887131695112), (43.01267024671777, -80.55899095230681), (43.065286891315424, -80.5828223292416), (43.120282357581175, -80.56863554817845), (43.25018769463496, -80.48846483667049), (43.378131386206746, -80.52706267801969), (43.43171044102488, -80.49294403306556), (43.42645714270212, -80.48003775122737), (43.32073576392157, -80.4354014722738), (43.29201485577916, -80.4402107939392), (43.25521141013973, -80.45657533644201), (43.19093743746108, -80.47361196229947), (43.206983781479686, -80.50133633112515), (43.22930183790741, -80.53054558169457), (43.26810744373076, -80.58438627514823), (43.22040561147145, -80.56751877015031), (43.17008305167168, -80.48637753212138), (43.14644044969587, -80.48621049260775), (43.139379121103204, -80.47929372226105), (43.145601773421944, -80.51731540581548), (43.09218617653204, -80.47979618180655)]\n"
     ]
    }
   ],
   "source": [
    "route = return_route()\n",
    "print(route)"
   ]
  },
  {
   "cell_type": "code",
   "execution_count": 34,
   "id": "1f2ac0f6",
   "metadata": {},
   "outputs": [
    {
     "data": {
      "image/png": "[encoded data removed]",
      "text/plain": [
       "<Figure size 640x480 with 1 Axes>"
      ]
     },
     "metadata": {},
     "output_type": "display_data"
    }
   ],
   "source": [
    "'''\n",
    "polygon = Polygon([[42.497830,-80.599547],\n",
    "                   [43.362853, -80.423271],[43.5121265, -80.480605],[43.344230, -80.597123],\n",
    "                   [42.497830,-80.599547]])\n",
    "                   '''\n",
    "# Plot the polygon\n",
    "#xp,yp = polygon.exterior.xy\n",
    "\n",
    "n = list(range(1, 26))\n",
    "\n",
    "fig, ax = plt.subplots()\n",
    "plt.plot(xp,yp)\n",
    "\n",
    "route_array = np.array(route)\n",
    "x = route_array[:, 0]\n",
    "y = route_array[:,1]\n",
    "\n",
    "# Plot the list of points\n",
    "#plt.scatter(xs, ys, color=\"red\")\n",
    "plt.plot(x, y, '--o')\n",
    "for i, txt in enumerate(n):\n",
    "    ax.annotate(txt, (x[i], y[i]))\n",
    "\n",
    "\n",
    "plt.show()"
   ]
  },
  {
   "cell_type": "markdown",
   "id": "1e596cab",
   "metadata": {},
   "source": [
    "after 9k iterations the solution is not optimal"
   ]
  },
  {
   "cell_type": "code",
   "execution_count": 41,
   "id": "3d3a9643",
   "metadata": {},
   "outputs": [],
   "source": [
    "def reverse_path(tour):\n",
    "    '''return a new tour by reversing the path between two stops\n",
    "    This is an implementation of the 2-opt algorithm\n",
    "    https://en.wikipedia.org/wiki/2-opt\n",
    "    but is taken from page 124-125 of the text\n",
    "    \n",
    "    Args:\n",
    "        tour: A given tuple of successive stops\n",
    "        \n",
    "    Returns:\n",
    "        A tour\n",
    "    '''\n",
    "    number_of_stops = len(tour) - 1\n",
    "    stops = np.random.choice(range(1, number_of_stops), 2)\n",
    "    i, j = sorted(stops)\n",
    "    new_tour = tour[:i] + tour[i : j + 1][::-1] + tour[j + 1 :]\n",
    "    return new_tour"
   ]
  },
  {
   "cell_type": "code",
   "execution_count": 42,
   "id": "83241332",
   "metadata": {},
   "outputs": [
    {
     "name": "stdout",
     "output_type": "stream",
     "text": [
      "[0, 5, 10, 6, 4, 8, 19, 17, 7, 3, 23, 2, 21, 9, 18, 24, 1, 13, 15, 12, 20, 11, 16, 14, 22, 0]\n"
     ]
    }
   ],
   "source": [
    "print(reverse_path(initial_candidate))"
   ]
  },
  {
   "cell_type": "code",
   "execution_count": 43,
   "id": "51ef9fa7",
   "metadata": {},
   "outputs": [
    {
     "name": "stdout",
     "output_type": "stream",
     "text": [
      "([0, 23, 18, 22, 4, 11, 13, 8, 19, 21, 16, 3, 17, 10, 5, 6, 2, 24, 12, 14, 15, 20, 1, 9, 7, 0], 1.6189744546045466)\n"
     ]
    }
   ],
   "source": [
    "solution_w_reverse_path = run_neighbourhood_search(distance_matrix=d_matrix,\n",
    "                                                  iterations = number_of_iterations,\n",
    "                                                  seed = seed,\n",
    "                                                  neighbourhood_operator = reverse_path,\n",
    "                                                  )\n",
    "print(solution_w_reverse_path)"
   ]
  },
  {
   "cell_type": "code",
   "execution_count": 50,
   "id": "a2fc747c",
   "metadata": {},
   "outputs": [
    {
     "name": "stdout",
     "output_type": "stream",
     "text": [
      "([0, 23, 18, 22, 4, 11, 13, 8, 2, 16, 3, 17, 10, 5, 6, 14, 12, 24, 21, 19, 15, 20, 1, 9, 7, 0], 1.8057024470719056)\n"
     ]
    }
   ],
   "source": [
    "print(solution_with_swap_stops)"
   ]
  },
  {
   "cell_type": "code",
   "execution_count": 48,
   "id": "79319778",
   "metadata": {},
   "outputs": [
    {
     "name": "stdout",
     "output_type": "stream",
     "text": [
      "old route\n",
      "[(43.03717306519377, -80.50369685731886), (42.969107415416104, -80.5462250885295), (42.736570306681735, -80.58549251979808), (42.94738460550742, -80.58608831894928), (42.976782195938625, -80.57887131695112), (43.01267024671777, -80.55899095230681), (43.065286891315424, -80.5828223292416), (43.120282357581175, -80.56863554817845), (43.25018769463496, -80.48846483667049), (43.378131386206746, -80.52706267801969), (43.43171044102488, -80.49294403306556), (43.42645714270212, -80.48003775122737), (43.32073576392157, -80.4354014722738), (43.29201485577916, -80.4402107939392), (43.25521141013973, -80.45657533644201), (43.19093743746108, -80.47361196229947), (43.206983781479686, -80.50133633112515), (43.22930183790741, -80.53054558169457), (43.26810744373076, -80.58438627514823), (43.22040561147145, -80.56751877015031), (43.17008305167168, -80.48637753212138), (43.14644044969587, -80.48621049260775), (43.139379121103204, -80.47929372226105), (43.145601773421944, -80.51731540581548), (43.09218617653204, -80.47979618180655)]\n",
      "new route\n",
      "[(43.03717306519377, -80.50369685731886), (42.969107415416104, -80.5462250885295), (42.736570306681735, -80.58549251979808), (42.94738460550742, -80.58608831894928), (42.976782195938625, -80.57887131695112), (43.01267024671777, -80.55899095230681), (43.065286891315424, -80.5828223292416), (43.120282357581175, -80.56863554817845), (43.22040561147145, -80.56751877015031), (43.26810744373076, -80.58438627514823), (43.378131386206746, -80.52706267801969), (43.43171044102488, -80.49294403306556), (43.42645714270212, -80.48003775122737), (43.32073576392157, -80.4354014722738), (43.29201485577916, -80.4402107939392), (43.25521141013973, -80.45657533644201), (43.25018769463496, -80.48846483667049), (43.22930183790741, -80.53054558169457), (43.206983781479686, -80.50133633112515), (43.19093743746108, -80.47361196229947), (43.17008305167168, -80.48637753212138), (43.14644044969587, -80.48621049260775), (43.139379121103204, -80.47929372226105), (43.145601773421944, -80.51731540581548), (43.09218617653204, -80.47979618180655)]\n"
     ]
    }
   ],
   "source": [
    "new_route = return_route(solution_w_reverse_path, point_list)\n",
    "print('old route')\n",
    "print(route)\n",
    "print('new route')\n",
    "print(new_route)"
   ]
  },
  {
   "cell_type": "code",
   "execution_count": 49,
   "id": "6b683383",
   "metadata": {},
   "outputs": [
    {
     "data": {
      "text/plain": [
       "False"
      ]
     },
     "execution_count": 49,
     "metadata": {},
     "output_type": "execute_result"
    }
   ],
   "source": [
    "route == new_route"
   ]
  },
  {
   "cell_type": "code",
   "execution_count": 51,
   "id": "2966e5d9",
   "metadata": {},
   "outputs": [
    {
     "data": {
      "image/png": "[encoded data removed]",
      "text/plain": [
       "<Figure size 640x480 with 1 Axes>"
      ]
     },
     "metadata": {},
     "output_type": "display_data"
    }
   ],
   "source": [
    "n = list(range(1, 26))\n",
    "\n",
    "fig, ax = plt.subplots()\n",
    "plt.plot(xp,yp)\n",
    "\n",
    "route_array = np.array(new_route)\n",
    "x = route_array[:, 0]\n",
    "y = route_array[:,1]\n",
    "\n",
    "# Plot the list of points\n",
    "#plt.scatter(xs, ys, color=\"red\")\n",
    "plt.plot(x, y, '--o')\n",
    "for i, txt in enumerate(n):\n",
    "    ax.annotate(txt, (x[i], y[i]))\n",
    "\n",
    "\n",
    "plt.show()"
   ]
  },
  {
   "cell_type": "code",
   "execution_count": null,
   "id": "8df1208f",
   "metadata": {},
   "outputs": [],
   "source": []
  },
  {
   "cell_type": "code",
   "execution_count": null,
   "id": "755b9eba",
   "metadata": {},
   "outputs": [],
   "source": []
  }
 ],
 "metadata": {
  "kernelspec": {
   "display_name": "Python 3 (ipykernel)",
   "language": "python",
   "name": "python3"
  },
  "language_info": {
   "codemirror_mode": {
    "name": "ipython",
    "version": 3
   },
   "file_extension": ".py",
   "mimetype": "text/x-python",
   "name": "python",
   "nbconvert_exporter": "python",
   "pygments_lexer": "ipython3",
   "version": "3.12.3"
  }
 },
 "nbformat": 4,
 "nbformat_minor": 5
}
