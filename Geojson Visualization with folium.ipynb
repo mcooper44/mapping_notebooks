{
 "cells": [
  {
   "cell_type": "markdown",
   "metadata": {},
   "source": [
    "This is a simple reference for loading a geojson layer over a folium map, as well as loading new attributes into the feature set and building a new geojson object from three different ones"
   ]
  },
  {
   "cell_type": "code",
   "execution_count": null,
   "metadata": {},
   "outputs": [],
   "source": [
    "import folium\n",
    "import json"
   ]
  },
  {
   "cell_type": "code",
   "execution_count": null,
   "metadata": {},
   "outputs": [],
   "source": [
    "print(folium.__version__)"
   ]
  },
  {
   "cell_type": "code",
   "execution_count": null,
   "metadata": {},
   "outputs": [],
   "source": [
    "%ls"
   ]
  },
  {
   "cell_type": "markdown",
   "metadata": {},
   "source": [
    "WR has an open dataportal where you can find files that describe the different neighbourhoods.\n",
    "In Waterloo they are 'District Plans'\n",
    "In Kitchener they are 'Planning Communities'\n",
    "In Cambridge they are 'Planning Neighbourhoods'"
   ]
  },
  {
   "cell_type": "code",
   "execution_count": null,
   "metadata": {},
   "outputs": [],
   "source": [
    "kfile = 'geojson/Kitchener_Neighbourhoods.geojson'\n",
    "cfile = 'geojson/Cambridge_Neighbourhoods.geojson'\n",
    "wfile = 'geojson/Waterloo_Neighbourhoods.geojson'"
   ]
  },
  {
   "cell_type": "markdown",
   "metadata": {},
   "source": [
    "### load geojson object"
   ]
  },
  {
   "cell_type": "code",
   "execution_count": null,
   "metadata": {},
   "outputs": [],
   "source": [
    "# Kitchener\n",
    "with open(kfile) as f:\n",
    "    wr = json.load(f)"
   ]
  },
  {
   "cell_type": "code",
   "execution_count": null,
   "metadata": {},
   "outputs": [],
   "source": [
    "# Cambridge\n",
    "with open(cfile) as f:\n",
    "    wr2 = json.load(f)"
   ]
  },
  {
   "cell_type": "code",
   "execution_count": null,
   "metadata": {},
   "outputs": [],
   "source": [
    "# Waterloo\n",
    "with open(wfile) as f:\n",
    "    wr3 = json.load(f)"
   ]
  },
  {
   "cell_type": "markdown",
   "metadata": {},
   "source": [
    "### New Geojson Feature Set"
   ]
  },
  {
   "cell_type": "markdown",
   "metadata": {},
   "source": [
    "The open data portal provides a way to get access to the shape, KML and geojson files for the three cities in WR. But the ideal would be to have one geojson object that combines all three cities into one file.  To that end we can setup the framework for a new geojson object as follows..."
   ]
  },
  {
   "cell_type": "code",
   "execution_count": null,
   "metadata": {},
   "outputs": [],
   "source": [
    "new_geo = {\"type\": \"FeatureCollection\", \n",
    "         \"name\": \"Planning_Communities\", \n",
    "         \"crs\": { \"type\": \"name\", \n",
    "                     \"properties\": { \"name\": \"urn:ogc:def:crs:OGC:1.3:CRS84\" } },\n",
    "         \"features\": []} "
   ]
  },
  {
   "cell_type": "code",
   "execution_count": null,
   "metadata": {},
   "outputs": [],
   "source": [
    "# we need to append to the features the following structure \n",
    "# { \"type\": \"Feature\", \"properties\": { \"OBJECTID\": 1, \"CITY\": \"Kitchener\", \"NEIGHBOURHOOD\": \"Victoria Hills\"},\n",
    "    # geometry\": { \"type\": \"MultiPolygon\", \"coordinates\": [ [ [ [x,y],[x2,y2]...[xn,yn]]]]} },"
   ]
  },
  {
   "cell_type": "markdown",
   "metadata": {},
   "source": [
    "We can explore the strucutre of the geojson object"
   ]
  },
  {
   "cell_type": "code",
   "execution_count": null,
   "metadata": {},
   "outputs": [],
   "source": [
    "len(wr)"
   ]
  },
  {
   "cell_type": "code",
   "execution_count": null,
   "metadata": {},
   "outputs": [],
   "source": [
    "wr.keys()"
   ]
  },
  {
   "cell_type": "code",
   "execution_count": null,
   "metadata": {},
   "outputs": [],
   "source": [
    "print(f\"type: {type([wr['features']])}, len: {len(wr['features'])}\")"
   ]
  },
  {
   "cell_type": "markdown",
   "metadata": {},
   "source": [
    "The naming convention in the different geojson objects are all different.   Ideally we want to unify the keys so\n",
    "there is some level of consistency since they are all going to be compiled into one object. At the same time we can build in a color feature based on the city that polygon/neighbourhood exists in"
   ]
  },
  {
   "cell_type": "code",
   "execution_count": null,
   "metadata": {},
   "outputs": [],
   "source": [
    "gj_objs = [('Kitchener', wr),\n",
    "           ('Cambridge', wr2),\n",
    "           ('Waterloo', wr3)]\n",
    "\n",
    "key_mapping = {'Kitchener': {'NH': \"PLANNING_COMMUNITY\", 'PCID': 'PLANNINGCOMMUNITYID', \n",
    "                             'COMM_LABEL': 'PLANNING_COMMUNITY'},\n",
    "               'Waterloo': {'NH': 'DISTNAME', 'PCID': 'PLANNINGDI', 'COMM_LABEL': 'DISTNAME'},\n",
    "               'Cambridge': {'NH': \"NHOOD_NAME\", 'PCID': \"NHOOD_ID\", 'COMM_LABEL': \"COMMUNITY_NAME\"}}\n",
    "\n",
    "colours = {'Kitchener' : {'fillColor': '#228B22', 'color': '#228B22'},\n",
    "          'Cambridge' : {'fillColor': '#00FFFFFF', 'color': '#00FFFFFF'},\n",
    "          'Waterloo' : {'fillColor': '#EBBA34', 'color': '#EB7D34'}}\n",
    "\n",
    "# add features to new geojson object\n",
    "for obj in gj_objs:\n",
    "    City, struct = obj\n",
    "    for feature in struct['features']:\n",
    "        # insert City as a property\n",
    "        feature['properties']['CITY'] = City\n",
    "        # insert common labels for key features\n",
    "        for k in key_mapping[City].keys():\n",
    "            feature['properties'][k] = feature['properties'][key_mapping[City][k]]\n",
    "            \n",
    "        # insert a colour feature\n",
    "        feature['properties']['colour'] = colours[City]\n",
    "        # append feature to new geojson object\n",
    "        new_geo['features'].append(feature)\n",
    "    print(f'{City} added')\n",
    "    print(f\"Features are now: {len(new_geo['features'])}\")\n"
   ]
  },
  {
   "cell_type": "markdown",
   "metadata": {},
   "source": [
    "### Set Geometry Colours"
   ]
  },
  {
   "cell_type": "code",
   "execution_count": null,
   "metadata": {},
   "outputs": [],
   "source": [
    "style1 = {'fillColor': '#228B22', 'color': '#228B22'}\n",
    "style2 = {'fillColor': '#00FFFFFF', 'color': '#00FFFFFF'}\n",
    "style3 = {'fillColor': '#EBBA34', 'color': '#EB7D34'}"
   ]
  },
  {
   "cell_type": "markdown",
   "metadata": {},
   "source": [
    "### create folium map"
   ]
  },
  {
   "cell_type": "code",
   "execution_count": null,
   "metadata": {},
   "outputs": [],
   "source": [
    "kw = {'location': [43.451413, -80.492713], 'zoom_start': 12}"
   ]
  },
  {
   "cell_type": "code",
   "execution_count": null,
   "metadata": {},
   "outputs": [],
   "source": [
    "m = folium.Map(**kw)"
   ]
  },
  {
   "cell_type": "code",
   "execution_count": null,
   "metadata": {},
   "outputs": [],
   "source": [
    "folium.GeoJson(wr,name='Kitchener', \n",
    "               style_function= lambda x:style1,\n",
    "              popup=folium.GeoJsonPopup(fields=['PLANNING_COMMUNITY'])).add_to(m)"
   ]
  },
  {
   "cell_type": "code",
   "execution_count": null,
   "metadata": {},
   "outputs": [],
   "source": [
    "folium.GeoJson(wr2, name='Cambridge', \n",
    "               style_function= lambda x:style2,\n",
    "               popup=folium.GeoJsonPopup(fields=['NHOOD_NAME', 'COMMUNITY_NAME'])).add_to(m)"
   ]
  },
  {
   "cell_type": "code",
   "execution_count": null,
   "metadata": {},
   "outputs": [],
   "source": [
    "folium.GeoJson(wr3, name='Waterloo', \n",
    "               style_function= lambda x:style3,\n",
    "               popup=folium.GeoJsonPopup(fields=['DISTNAME'])).add_to(m)"
   ]
  },
  {
   "cell_type": "markdown",
   "metadata": {},
   "source": [
    "### make sure the individual geojson objects looks correct"
   ]
  },
  {
   "cell_type": "code",
   "execution_count": null,
   "metadata": {},
   "outputs": [],
   "source": [
    "m"
   ]
  },
  {
   "cell_type": "markdown",
   "metadata": {},
   "source": [
    "### Load the unified object "
   ]
  },
  {
   "cell_type": "markdown",
   "metadata": {},
   "source": [
    "Now we can compare the two maps by building a new map using the unified geojson object and maintain the three colour schemes for the polygons of each city"
   ]
  },
  {
   "cell_type": "code",
   "execution_count": null,
   "metadata": {},
   "outputs": [],
   "source": [
    "def style(feature):\n",
    "    ''' \n",
    "    taken from:\n",
    "    https://gis.stackexchange.com/questions/394219/folium-draw-polygons-with-distinct-colours\n",
    "    leverages the fact that each city has a unique colour attribute in the feature space\n",
    "    '''\n",
    "    return {'fillColor': feature['properties']['colour']['fillColor'],\n",
    "            'color': feature['properties']['colour']['color']}\n",
    "\n",
    "m2 = folium.Map(**kw)\n",
    "folium.GeoJson(new_geo,name='KW and Cambridge', \n",
    "               style_function= style,\n",
    "               popup=folium.GeoJsonPopup(fields=['CITY','NH','COMM_LABEL'])).add_to(m2)"
   ]
  },
  {
   "cell_type": "code",
   "execution_count": null,
   "metadata": {},
   "outputs": [],
   "source": [
    "m2"
   ]
  },
  {
   "cell_type": "markdown",
   "metadata": {},
   "source": [
    "Write out the new structure to a file for future use"
   ]
  },
  {
   "cell_type": "code",
   "execution_count": null,
   "metadata": {},
   "outputs": [],
   "source": [
    "with open('Kitchener_Waterloo_Cambridge_NH.geojson', 'w') as out_f:\n",
    "    json.dump(new_geo, out_f)"
   ]
  },
  {
   "cell_type": "markdown",
   "metadata": {},
   "source": [
    "...and double check to make sure it works"
   ]
  },
  {
   "cell_type": "code",
   "execution_count": null,
   "metadata": {},
   "outputs": [],
   "source": [
    "with open('Kitchener_Waterloo_Cambridge_NH.geojson') as f:\n",
    "    wr4 = json.load(f)"
   ]
  },
  {
   "cell_type": "code",
   "execution_count": null,
   "metadata": {},
   "outputs": [],
   "source": [
    "m3 = folium.Map(**kw)\n",
    "folium.GeoJson(wr4,name='KW and Cambridge', \n",
    "               style_function= style,\n",
    "               popup=folium.GeoJsonPopup(fields=['CITY','NH','COMM_LABEL'])).add_to(m3)\n",
    "m3"
   ]
  },
  {
   "cell_type": "code",
   "execution_count": null,
   "metadata": {},
   "outputs": [],
   "source": []
  }
 ],
 "metadata": {
  "kernelspec": {
   "display_name": "Python 3 (ipykernel)",
   "language": "python",
   "name": "python3"
  },
  "language_info": {
   "codemirror_mode": {
    "name": "ipython",
    "version": 3
   },
   "file_extension": ".py",
   "mimetype": "text/x-python",
   "name": "python",
   "nbconvert_exporter": "python",
   "pygments_lexer": "ipython3",
   "version": "3.9.12"
  }
 },
 "nbformat": 4,
 "nbformat_minor": 2
}
