{
 "cells": [
  {
   "cell_type": "code",
   "execution_count": 5,
   "id": "8c630269",
   "metadata": {},
   "outputs": [],
   "source": [
    "import json\n",
    "from collections import defaultdict\n",
    "import simplekml"
   ]
  },
  {
   "cell_type": "code",
   "execution_count": 6,
   "id": "876c6bad",
   "metadata": {},
   "outputs": [],
   "source": [
    "# geometry source file supplied on the open data portal\n",
    "fname = 'Voting_Subdivision.geojson'\n",
    "with open(fname) as f:\n",
    "    poll = json.load(f)\n",
    "\n",
    "# polling station points supplied on the open data portal\n",
    "stations = 'Voting_Polling_Stations.geojson'\n",
    "with open(stations) as p:\n",
    "    s_points = json.load(p)"
   ]
  },
  {
   "cell_type": "code",
   "execution_count": 7,
   "id": "e15cf1f6",
   "metadata": {},
   "outputs": [],
   "source": [
    "# template to convert to KML - create a simplified geojson structure in case doing so is helpful for\n",
    "# a future project\n",
    "structure = {\n",
    "    'type' : 'FeatureCollection',\n",
    "    'name' : 'Voting_Subdivision_4Kml',\n",
    "    'crs' : { \"type\": \"name\", \"properties\": { \"name\": \"urn:ogc:def:crs:OGC:1.3:CRS84\" }},\n",
    "    'features' : []\n",
    "    \n",
    "}"
   ]
  },
  {
   "cell_type": "code",
   "execution_count": 8,
   "id": "64cae3a7",
   "metadata": {},
   "outputs": [],
   "source": [
    "# these are the polls with the highest amount of voter turnout - they are structured as (ward, poll)\n",
    "targets = [(8,30),(8,15),(1,30),(2,10),(1,15),(7,30),(9,5),(2,25),(8,35),(3,15),(3,25),(2,5),(2,15),(2,60),(7,35),\n",
    "          (7,40),(4,15),(7,25),(7,45)]\n",
    "\n",
    "targets.sort(key=lambda x: x[0])\n",
    "\n",
    "# for the sake of convenience create a dictionary to hold a list of the target polls in each ward\n",
    "lu = defaultdict(list)\n",
    "for t in targets:\n",
    "    w,p = t\n",
    "    lu[w].append(p)"
   ]
  },
  {
   "cell_type": "code",
   "execution_count": 9,
   "id": "293250ca",
   "metadata": {},
   "outputs": [
    {
     "name": "stdout",
     "output_type": "stream",
     "text": [
      "1 MACKENZIE KING PUBLIC SCHOOL 15\n",
      "1 SMITHSON PUBLIC SCHOOL 30\n",
      "2 GRAND RIVER RECREATION COMPLEX 10\n",
      "2 LACKNER WOODS PUBLIC SCHOOL 25\n",
      "2 ST. JOHN PAUL II CATHOLIC SCHOOL 60\n",
      "2 CHICOPEE HILLS PUBLIC SCHOOL 15\n",
      "2 STANLEY PARK COMMUNITY CENTRE 5\n",
      "3 K.P.L. - COUNTRY HILLS COMMUNITY LIBRARY 15\n",
      "3 SPORTSWORLD ARENA 25\n",
      "4 J.W. GERTH PUBLIC SCHOOL 15\n",
      "7 K.P.L. - FOREST HEIGHTS COMMUNITY LIBRARY 35\n",
      "7 DRIFTWOOD PARK PUBLIC SCHOOL 40\n",
      "7 JOHN DARLING PUBLIC SCHOOL 45\n",
      "7 FOREST HEIGHTS COMMUNITY CENTRE 30\n",
      "7 ST. DOMINIC SAVIO CATHOLIC SCHOOL 25\n",
      "8 WESTMOUNT PUBLIC SCHOOL 15\n",
      "8 FOREST HILL PUBLIC SCHOOL 35\n",
      "8 ST. PAUL CATHOLIC SCHOOL 30\n",
      "9 ST. JOHN'S CATHOLIC SCHOOL 5\n"
     ]
    }
   ],
   "source": [
    "# highlight target areas of the map and modify the geojson object\n",
    "\n",
    "for p in poll['features']:\n",
    "    # print a list of all the polls in each ward\n",
    "    #print(f\"{p['properties']['WARD']} {p['properties']['POLLING_STATION_NAME']} {p['properties']['POLL']}\")\n",
    "    pl = p['properties']['POLL']\n",
    "    wd = p['properties']['WARD']\n",
    "    \n",
    "    # this will be the name of the polygon in google maps when you click it\n",
    "    w_p_name = f\"Ward: {wd} Poll: {pl}\" \n",
    "    p['properties']['w_p_name'] = w_p_name\n",
    " \n",
    "    # check for priority status\n",
    "    is_tgt = lu.get(int(wd),[None])\n",
    "    if int(pl) in is_tgt:\n",
    "        structure['features'].append(p)\n",
    "    else:\n",
    "        pass # perhaps do something here later\n",
    "\n",
    "# verify that we have the correct targets\n",
    "for new_p in structure['features']:\n",
    "    print(f\"{new_p['properties']['WARD']} {new_p['properties']['POLLING_STATION_NAME']} {new_p['properties']['POLL']}\")"
   ]
  },
  {
   "cell_type": "code",
   "execution_count": 10,
   "id": "b825082c",
   "metadata": {},
   "outputs": [],
   "source": [
    "kml = simplekml.Kml()"
   ]
  },
  {
   "cell_type": "code",
   "execution_count": 12,
   "id": "18fbb1e1",
   "metadata": {},
   "outputs": [],
   "source": [
    "# iterate over the structure and add the label and geometry to the kml instance\n",
    "\n",
    "for feature in structure['features']:\n",
    "    geo = feature['geometry']\n",
    "    kml.newpolygon(name= feature['properties']['w_p_name'],\n",
    "                   description =  feature['properties']['POLLING_STATION_NAME'],\n",
    "                   outerboundaryis=geo['coordinates'][0]\n",
    "                  )\n",
    "\n",
    "for point in s_points['features']:\n",
    "    kml_p = point['properties']['MAP_LABEL']\n",
    "    gx,gy = point['geometry']['coordinates']\n",
    "    kml.newpoint(name = kml_p,\n",
    "                 coords = [(gx,gy)])\n",
    "    \n",
    "\n",
    "# save file for importing into google maps\n",
    "kml.save('target_wards.kml')"
   ]
  },
  {
   "cell_type": "code",
   "execution_count": null,
   "id": "9d707b3d",
   "metadata": {},
   "outputs": [],
   "source": []
  }
 ],
 "metadata": {
  "kernelspec": {
   "display_name": "Python 3 (ipykernel)",
   "language": "python",
   "name": "python3"
  },
  "language_info": {
   "codemirror_mode": {
    "name": "ipython",
    "version": 3
   },
   "file_extension": ".py",
   "mimetype": "text/x-python",
   "name": "python",
   "nbconvert_exporter": "python",
   "pygments_lexer": "ipython3",
   "version": "3.9.12"
  }
 },
 "nbformat": 4,
 "nbformat_minor": 5
}
