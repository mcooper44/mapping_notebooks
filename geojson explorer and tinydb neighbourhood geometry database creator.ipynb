{
 "cells": [
  {
   "cell_type": "markdown",
   "metadata": {},
   "source": [
    "This script opens geojson files for different communities that outline the neighbourhood boundaries and consolidates them into a single database that can be used to generate folium maps, or to create new geojson files with additional information folded in"
   ]
  },
  {
   "cell_type": "code",
   "execution_count": null,
   "metadata": {
    "collapsed": true
   },
   "outputs": [],
   "source": [
    "import json\n",
    "from tinydb import TinyDB, Query"
   ]
  },
  {
   "cell_type": "markdown",
   "metadata": {},
   "source": [
    "# Explore files and their structure"
   ]
  },
  {
   "cell_type": "code",
   "execution_count": null,
   "metadata": {
    "collapsed": false
   },
   "outputs": [],
   "source": [
    "%ls"
   ]
  },
  {
   "cell_type": "markdown",
   "metadata": {},
   "source": [
    "### Cambridge"
   ]
  },
  {
   "cell_type": "code",
   "execution_count": null,
   "metadata": {
    "collapsed": true
   },
   "outputs": [],
   "source": [
    "with open('Cambridge.geojson') as Cambridge:\n",
    "    Cambridge_data = json.load(Cambridge)"
   ]
  },
  {
   "cell_type": "code",
   "execution_count": null,
   "metadata": {
    "collapsed": false
   },
   "outputs": [],
   "source": [
    "len(Cambridge_data['features'])"
   ]
  },
  {
   "cell_type": "code",
   "execution_count": null,
   "metadata": {
    "collapsed": false
   },
   "outputs": [],
   "source": [
    "Cambridge_data['features'][0].keys()"
   ]
  },
  {
   "cell_type": "code",
   "execution_count": null,
   "metadata": {
    "collapsed": false
   },
   "outputs": [],
   "source": [
    "for feature in Cambridge_data['features']:\n",
    "    print('geometry keys {}'.format(feature['geometry'].keys()))\n",
    "    print('properties keys {}'.format(feature['properties']))"
   ]
  },
  {
   "cell_type": "markdown",
   "metadata": {},
   "source": [
    "### Kitchener"
   ]
  },
  {
   "cell_type": "code",
   "execution_count": null,
   "metadata": {
    "collapsed": true
   },
   "outputs": [],
   "source": [
    "with open('Kitchener.geojson') as Kitchener:\n",
    "    Kitchener_data = json.load(Kitchener)"
   ]
  },
  {
   "cell_type": "code",
   "execution_count": null,
   "metadata": {
    "collapsed": false
   },
   "outputs": [],
   "source": [
    "len(Kitchener_data['features'])"
   ]
  },
  {
   "cell_type": "code",
   "execution_count": null,
   "metadata": {
    "collapsed": false
   },
   "outputs": [],
   "source": [
    "Kitchener_data['features'][0].keys()"
   ]
  },
  {
   "cell_type": "code",
   "execution_count": null,
   "metadata": {
    "collapsed": false
   },
   "outputs": [],
   "source": [
    "for feature in Kitchener_data['features']:\n",
    "    print('geometry keys {}'.format(feature['geometry'].keys()))\n",
    "    print('properties keys {}'.format(feature['properties']))"
   ]
  },
  {
   "cell_type": "markdown",
   "metadata": {},
   "source": [
    "### Waterloo"
   ]
  },
  {
   "cell_type": "code",
   "execution_count": null,
   "metadata": {
    "collapsed": false
   },
   "outputs": [],
   "source": [
    "with open('Waterloo.geojson') as Waterloo:\n",
    "    Waterloo_data = json.load(Waterloo)"
   ]
  },
  {
   "cell_type": "code",
   "execution_count": null,
   "metadata": {
    "collapsed": false
   },
   "outputs": [],
   "source": [
    "len(Waterloo_data['features'])"
   ]
  },
  {
   "cell_type": "code",
   "execution_count": null,
   "metadata": {
    "collapsed": false
   },
   "outputs": [],
   "source": [
    "Waterloo_data['features'][0].keys()"
   ]
  },
  {
   "cell_type": "code",
   "execution_count": null,
   "metadata": {
    "collapsed": false
   },
   "outputs": [],
   "source": [
    "for feature in Waterloo_data['features']:\n",
    "    print('geometry keys {}'.format(feature['geometry'].keys()))\n",
    "    print('properties keys {}'.format(feature['properties']))\n",
    "    print('coordinates type {}'.format(type(feature['geometry']['coordinates'])))"
   ]
  },
  {
   "cell_type": "code",
   "execution_count": null,
   "metadata": {
    "collapsed": false
   },
   "outputs": [],
   "source": [
    "Waterloo_data['features'][0]['geometry']['coordinates'][0]"
   ]
  },
  {
   "cell_type": "markdown",
   "metadata": {},
   "source": [
    "# Create a tinydb as a simple way of storing the data we need for future reference"
   ]
  },
  {
   "cell_type": "code",
   "execution_count": null,
   "metadata": {
    "collapsed": false
   },
   "outputs": [],
   "source": [
    "# open a tiny db to stow away all of the neighbourhood data in a consistent format\n",
    "# Instantiate the database and query object\n",
    "db = TinyDB('Waterloo_Kitchener_Cambridge.json')\n",
    "representative = Query()"
   ]
  },
  {
   "cell_type": "markdown",
   "metadata": {},
   "source": [
    "### extract the key data features we need, namely Neighbourhood label and geometry with the aid of a helper function"
   ]
  },
  {
   "cell_type": "code",
   "execution_count": null,
   "metadata": {
    "collapsed": false
   },
   "outputs": [],
   "source": [
    "def extract_data_features(json_file, hood_label, city, tdb, tdb_query):\n",
    "    '''\n",
    "    param: json_file = the geojson file for one of the cities\n",
    "    param: hood_label = the name used to label the neighbourhood\n",
    "           kitchener = 'PLANNING_C'\n",
    "           waterloo = 'DISTNAME'\n",
    "           cambridge = 'NHOOD_NAME'\n",
    "    param: tdb = tinydb object already instantiated\n",
    "    param: tdb_query = tinydb Query() object\n",
    "    '''\n",
    "    with open(json_file) as f:\n",
    "        data = json.load(f)\n",
    "    \n",
    "    for hood in data['features']:\n",
    "        hood_name = hood['properties'][hood_label] # name of neighbourhood\n",
    "        raw_coords = hood['geometry']['coordinates'][0]\n",
    "        coords = [[x[1], x[0]] for x in raw_coords]\n",
    "\n",
    "        if not tdb.search((tdb_query.name == hood_name) & (tdb_query.city == city)):\n",
    "            print('adding {} from {} to database'.format(hood_name, city))\n",
    "            tdb.insert({'name': hood_name,\n",
    "                           'city': city,\n",
    "                           'coords': coords})\n",
    "        else:\n",
    "            print('previously logged {} from {}'.format(hood_name, city))"
   ]
  },
  {
   "cell_type": "code",
   "execution_count": null,
   "metadata": {
    "collapsed": false
   },
   "outputs": [],
   "source": [
    "extract_data_features('Waterloo.geojson', 'DISTNAME', 'Waterloo', db, representative)"
   ]
  },
  {
   "cell_type": "code",
   "execution_count": null,
   "metadata": {
    "collapsed": false
   },
   "outputs": [],
   "source": [
    "extract_data_features('Kitchener.geojson', 'PLANNING_C', 'Kitchener', db, representative)"
   ]
  },
  {
   "cell_type": "code",
   "execution_count": null,
   "metadata": {
    "collapsed": false
   },
   "outputs": [],
   "source": [
    "extract_data_features('Cambridge.geojson', 'NHOOD_NAME', 'Cambridge', db, representative)"
   ]
  },
  {
   "cell_type": "code",
   "execution_count": null,
   "metadata": {
    "collapsed": true
   },
   "outputs": [],
   "source": [
    "db.close()"
   ]
  }
 ],
 "metadata": {
  "kernelspec": {
   "display_name": "Python 3",
   "language": "python",
   "name": "python3"
  },
  "language_info": {
   "codemirror_mode": {
    "name": "ipython",
    "version": 3
   },
   "file_extension": ".py",
   "mimetype": "text/x-python",
   "name": "python",
   "nbconvert_exporter": "python",
   "pygments_lexer": "ipython3",
   "version": "3.4.3"
  }
 },
 "nbformat": 4,
 "nbformat_minor": 2
}
