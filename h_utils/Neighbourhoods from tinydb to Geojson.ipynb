{
 "cells": [
  {
   "cell_type": "markdown",
   "metadata": {},
   "source": [
    "### Create geojson files for mapping \n",
    "This script takes a database of shape coordinates and builds a geojson file that can be used to generate maps with folium.\n",
    "The first step is to find the shape file containing the coordinates and convert it to geojson with the help of http://gipong.github.io/shp2geojson.js/ or some of the helper scripts using Fiona\n",
    "Step two is to merge the files we want to use with the help of the \"geojson explorer and tinydb neighbourhood geometry database creator\" notebook\n",
    "Step three is this...\n"
   ]
  },
  {
   "cell_type": "code",
   "execution_count": null,
   "metadata": {
    "collapsed": false
   },
   "outputs": [],
   "source": [
    "from tinydb import TinyDB, Query\n",
    "import geojson\n",
    "from geojson import Polygon, FeatureCollection, Feature"
   ]
  },
  {
   "cell_type": "code",
   "execution_count": null,
   "metadata": {
    "collapsed": true
   },
   "outputs": [],
   "source": [
    "import pandas as pd"
   ]
  },
  {
   "cell_type": "code",
   "execution_count": null,
   "metadata": {
    "collapsed": true
   },
   "outputs": [],
   "source": [
    "from collections import defaultdict"
   ]
  },
  {
   "cell_type": "code",
   "execution_count": null,
   "metadata": {
    "collapsed": false
   },
   "outputs": [],
   "source": [
    "%ls *.json"
   ]
  },
  {
   "cell_type": "markdown",
   "metadata": {},
   "source": [
    "#### Open the tinydb of shapes and basic labels"
   ]
  },
  {
   "cell_type": "code",
   "execution_count": null,
   "metadata": {
    "collapsed": false
   },
   "outputs": [],
   "source": [
    "db = TinyDB('Waterloo_Kitchener_Cambridge.json') # previosly created by another notebook\n",
    "\n",
    "WR = db.all()\n",
    "\n",
    "if len(WR) != 0:\n",
    "    print('data loaded!')\n",
    "else:\n",
    "    print('check file - nothing loaded')"
   ]
  },
  {
   "cell_type": "code",
   "execution_count": null,
   "metadata": {
    "collapsed": false
   },
   "outputs": [],
   "source": [
    "%ls ~/datascience/mapping_notebooks/source_files/"
   ]
  },
  {
   "cell_type": "markdown",
   "metadata": {},
   "source": [
    "### prep additional data to add to the geojson file"
   ]
  },
  {
   "cell_type": "code",
   "execution_count": null,
   "metadata": {
    "collapsed": false
   },
   "outputs": [],
   "source": [
    "# read in the summary of neighbourhoods and the HH that live in them to add more details to the geojson file for use later\n",
    "# in map making\n",
    "# this source file is created by the Neighbourhood Discovery Tool\n",
    "nh_data = pd.read_csv('~/datascience/mapping_notebooks/output_files/2018_EFHP_Caseload_HH_NH_summary.csv')"
   ]
  },
  {
   "cell_type": "code",
   "execution_count": null,
   "metadata": {
    "collapsed": false
   },
   "outputs": [],
   "source": [
    "# because the csv is made from a group by object there is some extra clutter and the header names are hard to parse\n",
    "# so, rename the columns and drop the unneccesary layer of subcolumns that are an artifact of the group by\n",
    "nh_data.columns = ['o_index', 'Neighbourhood', 'City', \n",
    "                 'Total_Number_of_Families', 'SOI', 'Number_of_Families',\n",
    "                'Average_Family_Size', 'Number_of_People', 'Average_Number_of_Visits', 'Total_Hampers']\n",
    "nh_data.drop(nh_data.index[0], inplace=True)\n",
    "nh_data.drop(columns=['o_index'], inplace=True)\n",
    "nh_data.Total_Number_of_Families = nh_data.Total_Number_of_Families.astype(int)\n",
    "nh_data.head()"
   ]
  },
  {
   "cell_type": "code",
   "execution_count": null,
   "metadata": {
    "collapsed": false
   },
   "outputs": [],
   "source": [
    "# create a dictionary mapping neighbourhood to total hh served\n",
    "# this can be changed or expanded by keying off of other statistics such as Number of People, Total Hampers, etc. \n",
    "fam_totals = nh_data[['Neighbourhood', 'Total_Number_of_Families']]\n",
    "fam_totals.drop_duplicates(inplace=True, keep='last')\n",
    "ftd = fam_totals.set_index('Neighbourhood')['Total_Number_of_Families'].to_dict()"
   ]
  },
  {
   "cell_type": "code",
   "execution_count": null,
   "metadata": {
    "collapsed": false,
    "scrolled": true
   },
   "outputs": [],
   "source": [
    "# drop out the data that we don't need.  Focus on the SOI values\n",
    "soi_totals = nh_data[['Neighbourhood',\n",
    "                      'SOI','Number_of_Families',\n",
    "                      'Average_Family_Size',\n",
    "                      'Number_of_People',\n",
    "                      'Average_Number_of_Visits',\n",
    "                      'Total_Hampers']]\n",
    "soi_totals.head()"
   ]
  },
  {
   "cell_type": "code",
   "execution_count": null,
   "metadata": {
    "collapsed": false
   },
   "outputs": [],
   "source": [
    "soi_totals.tail()"
   ]
  },
  {
   "cell_type": "code",
   "execution_count": null,
   "metadata": {
    "collapsed": false
   },
   "outputs": [],
   "source": [
    "# create containers of Neighbourhood names and Source of income types\n",
    "hds = list(soi_totals['Neighbourhood'].drop_duplicates(keep='last'))\n",
    "sois = set(soi_totals['SOI'])"
   ]
  },
  {
   "cell_type": "code",
   "execution_count": null,
   "metadata": {
    "collapsed": false
   },
   "outputs": [],
   "source": [
    "# example values demonstrating the structure of what we need\n",
    "v = soi_totals[(soi_totals['Neighbourhood'] == 'VANIER') & (soi_totals['SOI'] == 'Other')].values.tolist()\n",
    "v[0][1:]"
   ]
  },
  {
   "cell_type": "code",
   "execution_count": null,
   "metadata": {
    "collapsed": false
   },
   "outputs": [],
   "source": [
    "# use soi_totals to create a tree of dictionaries that we can write into the geojson file for use later\n",
    "sub_headings = ['Number_of_Families', 'Average_Family_Size', \n",
    "                'Number_of_People', 'Average_Number_of_Visits', 'Total_Hampers']\n",
    "zeros = ['0','0','0','0','0']\n",
    "\n",
    "nvaldct = {} # a dictionary of 'Neigbhourhood' : dictionary of SOIs that return values, or zeros\n",
    "\n",
    "for h in hds: # for n hood in list of n hoods\n",
    "    srcs = {}\n",
    "    for isrc in sois: # for soi in sources of income\n",
    "        # turn the row into a list\n",
    "        vlu = soi_totals[(soi_totals['Neighbourhood'] == h) & (soi_totals['SOI'] == isrc)].values.tolist()\n",
    "        if vlu: # if the list is not empty\n",
    "            od = dict(zip(sub_headings, vlu[0][2:])) # maps the headings onto the values to make a dictionary\n",
    "            srcs[isrc] = od\n",
    "        else: # if the list is empty\n",
    "            ed = dict(zip(sub_headings, zeros)) # make a dictionary of zero values\n",
    "            srcs[isrc] = ed\n",
    "    nvaldct[h] = srcs # create a key in the dictionary of neighbourhoods that returns a dictionary of income sources and \n",
    "                      # values for it"
   ]
  },
  {
   "cell_type": "code",
   "execution_count": null,
   "metadata": {
    "collapsed": false
   },
   "outputs": [],
   "source": [
    "nvaldct['VANIER']['Federal'] # example of a full set of info"
   ]
  },
  {
   "cell_type": "code",
   "execution_count": null,
   "metadata": {
    "collapsed": false
   },
   "outputs": [],
   "source": [
    "nvaldct['VANIER']['Federal']['Average_Family_Size']"
   ]
  },
  {
   "cell_type": "code",
   "execution_count": null,
   "metadata": {
    "collapsed": false
   },
   "outputs": [],
   "source": [
    "nvaldct['HIDDEN VALLEY'] # example of default values written in "
   ]
  },
  {
   "cell_type": "code",
   "execution_count": null,
   "metadata": {
    "collapsed": false
   },
   "outputs": [],
   "source": [
    "len(nvaldct)"
   ]
  },
  {
   "cell_type": "code",
   "execution_count": null,
   "metadata": {
    "collapsed": false
   },
   "outputs": [],
   "source": [
    "# https://nbviewer.jupyter.org/github/jtbaker/folium/blob/geojsonmarker/examples/GeoJsonMarkersandTooltips.ipynb              "
   ]
  },
  {
   "cell_type": "code",
   "execution_count": null,
   "metadata": {
    "collapsed": false
   },
   "outputs": [],
   "source": [
    "def create_feature_list(tiny_db_file, exclusions=None, xtra_properties={}):\n",
    "    '''\n",
    "    iterate through a tiny_db_file and build a list of features\n",
    "    that can be used to create a feature collection object\n",
    "    the tiny_db_file is contains Neighbourhood and City fields \n",
    "    \n",
    "    exclusions: a list of Community Name strings in the database\n",
    "    that should not be included in the feature list in situations \n",
    "    where it is helpful to create maps with only specific cities on them\n",
    "    \n",
    "    xtra_properties: is a dictionary keyed off community names\n",
    "    that contains additional properties to include\n",
    "    '''\n",
    "       \n",
    "    feature_list = [] # container to hold onto the features\n",
    "    \n",
    "    for community in WR:\n",
    "        hood_name = community['name'] # neighbourhood name\n",
    "        \n",
    "        community_name = community['city'] # city name\n",
    "        coords = [(x[1], x[0]) for x in community['coords']]\n",
    "        \n",
    "        poly = Polygon([coords])\n",
    "        properties_dct = {**xtra_properties.get(hood_name, {}), # if there are some\n",
    "                          'City': community_name, \n",
    "                          'Neighbourhood': hood_name}\n",
    "        \n",
    "           \n",
    "        if community_name not in exclusions: # eliminate this if statement to include Cambridge\n",
    "            features = Feature(geometry = poly, \n",
    "                               properties = properties_dct, \n",
    "                               id = hood_name)\n",
    "            feature_list.append(features)\n",
    "    return feature_list\n",
    "    "
   ]
  },
  {
   "cell_type": "code",
   "execution_count": null,
   "metadata": {
    "collapsed": false
   },
   "outputs": [],
   "source": [
    "feat_list = create_feature_list(WR, exclusions='Cambridge', xtra_properties=nvaldct)\n",
    "len(feat_list) # make sure there is data"
   ]
  },
  {
   "cell_type": "code",
   "execution_count": null,
   "metadata": {
    "collapsed": false
   },
   "outputs": [],
   "source": [
    "feat_list[0]"
   ]
  },
  {
   "cell_type": "code",
   "execution_count": null,
   "metadata": {
    "collapsed": true
   },
   "outputs": [],
   "source": [
    "kwc_fc = FeatureCollection(feat_list) # create the feature collection"
   ]
  },
  {
   "cell_type": "code",
   "execution_count": null,
   "metadata": {
    "collapsed": false
   },
   "outputs": [],
   "source": [
    "# write the data out to a file\n",
    "with open('Kitchener_Waterloo_Neighbourhoods_2.geojson', 'w') as outfile:\n",
    "      geojson.dump(kwc_fc, outfile)\n",
    "\n",
    "print('all done')"
   ]
  },
  {
   "cell_type": "code",
   "execution_count": null,
   "metadata": {
    "collapsed": true
   },
   "outputs": [],
   "source": []
  }
 ],
 "metadata": {
  "kernelspec": {
   "display_name": "Python 3.6",
   "language": "python",
   "name": "python3.6"
  },
  "language_info": {
   "codemirror_mode": {
    "name": "ipython",
    "version": 3
   },
   "file_extension": ".py",
   "mimetype": "text/x-python",
   "name": "python",
   "nbconvert_exporter": "python",
   "pygments_lexer": "ipython3",
   "version": "3.6.0"
  }
 },
 "nbformat": 4,
 "nbformat_minor": 2
}
